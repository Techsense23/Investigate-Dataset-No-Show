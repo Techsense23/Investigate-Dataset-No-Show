{
 "cells": [
  {
   "cell_type": "markdown",
   "metadata": {},
   "source": [
    "> **Tip**: Welcome to the Investigate a Dataset project! You will find tips in quoted sections like this to help organize your approach to your investigation. Once you complete this project, remove these **Tip** sections from your report before submission. First things first, you might want to double-click this Markdown cell and change the title so that it reflects your dataset and investigation.\n",
    "\n",
    "# Project: Investigate a Dataset - [Dataset-name]\n",
    "\n",
    "## Table of Contents\n",
    "<ul>\n",
    "<li><a href=\"#intro\">Introduction</a></li>\n",
    "<li><a href=\"#wrangling\">Data Wrangling</a></li>\n",
    "<li><a href=\"#eda\">Exploratory Data Analysis</a></li>\n",
    "<li><a href=\"#conclusions\">Conclusions</a></li>\n",
    "</ul>"
   ]
  },
  {
   "cell_type": "markdown",
   "metadata": {},
   "source": [
    "<a id='intro'></a>\n",
    "## Introduction\n",
    "\n",
    "### Dataset Description \n",
    "This dataset contain 100k medical appointments in Brazil and is focused on the question of whether or not patients show up for their appointment and a number of characteristics about the patients who make the appointments. The variables of the dataset:\n",
    "\n",
    "#### Column\tDescription\n",
    "- PatientId:\tIdentification of a patient\n",
    "- AppointmentID:\tIdentification of each appointment\n",
    "- Gender:\tMale or Female.\n",
    "- ScheduledDay:\tThe day someone called or registered the appointment.\n",
    "- AppointmentDay:\tThe day of the actuall appointment, when they have to visit the doctor.\n",
    "- Age:\tHow old is the patient.\n",
    "- Neighbourhood:\tWhere the appointment takes place.\n",
    "- Scholarship:\tTrue of False\n",
    "- Hipertension:\tTrue or False\n",
    "- Diabetes:\tTrue or False\n",
    "- Alcoholism:\tTrue or False\n",
    "- Handcap:\tTrue or False\n",
    "- SMS_received:\tmessages sent to the patient.\n",
    "- No-show:\tTrue or False \n",
    "\n",
    "\n",
    "### Question(s) for Analysis\n"
   ]
  },
  {
   "cell_type": "markdown",
   "metadata": {},
   "source": [
    "- Q1- Is there a correlation between missing the appointment and the age of the patient?\n",
    "\n",
    "- Q2- Is there a correlation between missing the appointment and not receiving an SMS message?"
   ]
  },
  {
   "cell_type": "code",
   "execution_count": 7,
   "metadata": {},
   "outputs": [
    {
     "name": "stdout",
     "output_type": "stream",
     "text": [
      "---Importing Done!!---\n"
     ]
    }
   ],
   "source": [
    "# Use this cell to set up import statements for all of the packages that you\n",
    "#   plan to use.\n",
    "import pandas as pd\n",
    "import numpy as np\n",
    "import matplotlib.pyplot as plt\n",
    "%matplotlib inline\n",
    "\n",
    "print(\"---Importing Done!!---\")\n",
    "# Remember to include a 'magic word' so that your visualizations are plotted\n",
    "#   inline with the notebook. See this page for more:\n",
    "#   http://ipython.readthedocs.io/en/stable/interactive/magics.html\n"
   ]
  },
  {
   "cell_type": "code",
   "execution_count": 15,
   "metadata": {},
   "outputs": [
    {
     "name": "stdout",
     "output_type": "stream",
     "text": [
      "Collecting pandas==0.25.0\n",
      "  Using cached pandas-0.25.0.tar.gz (12.6 MB)\n",
      "Requirement already satisfied: python-dateutil>=2.6.1 in c:\\users\\23480\\anaconda3\\lib\\site-packages (from pandas==0.25.0) (2.8.2)\n",
      "Requirement already satisfied: pytz>=2017.2 in c:\\users\\23480\\anaconda3\\lib\\site-packages (from pandas==0.25.0) (2021.3)\n",
      "Requirement already satisfied: numpy>=1.13.3 in c:\\users\\23480\\anaconda3\\lib\\site-packages (from pandas==0.25.0) (1.22.3)\n",
      "Requirement already satisfied: six>=1.5 in c:\\users\\23480\\anaconda3\\lib\\site-packages (from python-dateutil>=2.6.1->pandas==0.25.0) (1.16.0)\n",
      "Building wheels for collected packages: pandas\n",
      "  Building wheel for pandas (setup.py): started\n",
      "  Building wheel for pandas (setup.py): finished with status 'error'\n",
      "  Running setup.py clean for pandas\n",
      "Failed to build pandas\n",
      "Installing collected packages: pandas\n",
      "  Attempting uninstall: pandas\n",
      "    Found existing installation: pandas 1.4.2\n",
      "    Uninstalling pandas-1.4.2:\n",
      "      Successfully uninstalled pandas-1.4.2\n",
      "    Running setup.py install for pandas: started\n"
     ]
    },
    {
     "name": "stderr",
     "output_type": "stream",
     "text": [
      "  ERROR: Command errored out with exit status 1:\n",
      "   command: 'C:\\Users\\23480\\anaconda3\\python.exe' -u -c 'import io, os, sys, setuptools, tokenize; sys.argv[0] = '\"'\"'C:\\\\Windows\\\\Temp\\\\pip-install-263ggf5t\\\\pandas_4769bd26d49941148e888cbe88bb52dc\\\\setup.py'\"'\"'; __file__='\"'\"'C:\\\\Windows\\\\Temp\\\\pip-install-263ggf5t\\\\pandas_4769bd26d49941148e888cbe88bb52dc\\\\setup.py'\"'\"';f = getattr(tokenize, '\"'\"'open'\"'\"', open)(__file__) if os.path.exists(__file__) else io.StringIO('\"'\"'from setuptools import setup; setup()'\"'\"');code = f.read().replace('\"'\"'\\r\\n'\"'\"', '\"'\"'\\n'\"'\"');f.close();exec(compile(code, __file__, '\"'\"'exec'\"'\"'))' bdist_wheel -d 'C:\\Windows\\Temp\\pip-wheel-g_008aw6'\n",
      "       cwd: C:\\Windows\\Temp\\pip-install-263ggf5t\\pandas_4769bd26d49941148e888cbe88bb52dc\\\n",
      "  Complete output (907 lines):\n",
      "  running bdist_wheel\n",
      "  running build\n",
      "  running build_py\n",
      "  creating build\n",
      "  creating build\\lib.win-amd64-3.9\n",
      "  creating build\\lib.win-amd64-3.9\\pandas\n",
      "  copying pandas\\conftest.py -> build\\lib.win-amd64-3.9\\pandas\n",
      "  copying pandas\\testing.py -> build\\lib.win-amd64-3.9\\pandas\n",
      "  copying pandas\\_typing.py -> build\\lib.win-amd64-3.9\\pandas\n",
      "  copying pandas\\_version.py -> build\\lib.win-amd64-3.9\\pandas\n",
      "  copying pandas\\__init__.py -> build\\lib.win-amd64-3.9\\pandas\n",
      "  creating build\\lib.win-amd64-3.9\\pandas\\api\n",
      "  copying pandas\\api\\__init__.py -> build\\lib.win-amd64-3.9\\pandas\\api\n",
      "  creating build\\lib.win-amd64-3.9\\pandas\\arrays\n",
      "  copying pandas\\arrays\\__init__.py -> build\\lib.win-amd64-3.9\\pandas\\arrays\n",
      "  creating build\\lib.win-amd64-3.9\\pandas\\compat\n",
      "  copying pandas\\compat\\chainmap.py -> build\\lib.win-amd64-3.9\\pandas\\compat\n",
      "  copying pandas\\compat\\pickle_compat.py -> build\\lib.win-amd64-3.9\\pandas\\compat\n",
      "  copying pandas\\compat\\_optional.py -> build\\lib.win-amd64-3.9\\pandas\\compat\n",
      "  copying pandas\\compat\\__init__.py -> build\\lib.win-amd64-3.9\\pandas\\compat\n",
      "  creating build\\lib.win-amd64-3.9\\pandas\\core\n",
      "  copying pandas\\core\\accessor.py -> build\\lib.win-amd64-3.9\\pandas\\core\n",
      "  copying pandas\\core\\algorithms.py -> build\\lib.win-amd64-3.9\\pandas\\core\n",
      "  copying pandas\\core\\api.py -> build\\lib.win-amd64-3.9\\pandas\\core\n",
      "  copying pandas\\core\\apply.py -> build\\lib.win-amd64-3.9\\pandas\\core\n",
      "  copying pandas\\core\\base.py -> build\\lib.win-amd64-3.9\\pandas\\core\n",
      "  copying pandas\\core\\common.py -> build\\lib.win-amd64-3.9\\pandas\\core\n",
      "  copying pandas\\core\\config_init.py -> build\\lib.win-amd64-3.9\\pandas\\core\n",
      "  copying pandas\\core\\frame.py -> build\\lib.win-amd64-3.9\\pandas\\core\n",
      "  copying pandas\\core\\generic.py -> build\\lib.win-amd64-3.9\\pandas\\core\n",
      "  copying pandas\\core\\index.py -> build\\lib.win-amd64-3.9\\pandas\\core\n",
      "  copying pandas\\core\\indexers.py -> build\\lib.win-amd64-3.9\\pandas\\core\n",
      "  copying pandas\\core\\indexing.py -> build\\lib.win-amd64-3.9\\pandas\\core\n",
      "  copying pandas\\core\\missing.py -> build\\lib.win-amd64-3.9\\pandas\\core\n",
      "  copying pandas\\core\\nanops.py -> build\\lib.win-amd64-3.9\\pandas\\core\n",
      "  copying pandas\\core\\resample.py -> build\\lib.win-amd64-3.9\\pandas\\core\n",
      "  copying pandas\\core\\series.py -> build\\lib.win-amd64-3.9\\pandas\\core\n",
      "  copying pandas\\core\\sorting.py -> build\\lib.win-amd64-3.9\\pandas\\core\n",
      "  copying pandas\\core\\strings.py -> build\\lib.win-amd64-3.9\\pandas\\core\n",
      "  copying pandas\\core\\window.py -> build\\lib.win-amd64-3.9\\pandas\\core\n",
      "  copying pandas\\core\\__init__.py -> build\\lib.win-amd64-3.9\\pandas\\core\n",
      "  creating build\\lib.win-amd64-3.9\\pandas\\errors\n",
      "  copying pandas\\errors\\__init__.py -> build\\lib.win-amd64-3.9\\pandas\\errors\n",
      "  creating build\\lib.win-amd64-3.9\\pandas\\io\n",
      "  copying pandas\\io\\api.py -> build\\lib.win-amd64-3.9\\pandas\\io\n",
      "  copying pandas\\io\\clipboards.py -> build\\lib.win-amd64-3.9\\pandas\\io\n",
      "  copying pandas\\io\\common.py -> build\\lib.win-amd64-3.9\\pandas\\io\n",
      "  copying pandas\\io\\date_converters.py -> build\\lib.win-amd64-3.9\\pandas\\io\n",
      "  copying pandas\\io\\feather_format.py -> build\\lib.win-amd64-3.9\\pandas\\io\n",
      "  copying pandas\\io\\gbq.py -> build\\lib.win-amd64-3.9\\pandas\\io\n",
      "  copying pandas\\io\\gcs.py -> build\\lib.win-amd64-3.9\\pandas\\io\n",
      "  copying pandas\\io\\html.py -> build\\lib.win-amd64-3.9\\pandas\\io\n",
      "  copying pandas\\io\\packers.py -> build\\lib.win-amd64-3.9\\pandas\\io\n",
      "  copying pandas\\io\\parquet.py -> build\\lib.win-amd64-3.9\\pandas\\io\n",
      "  copying pandas\\io\\parsers.py -> build\\lib.win-amd64-3.9\\pandas\\io\n",
      "  copying pandas\\io\\pickle.py -> build\\lib.win-amd64-3.9\\pandas\\io\n",
      "  copying pandas\\io\\pytables.py -> build\\lib.win-amd64-3.9\\pandas\\io\n",
      "  copying pandas\\io\\s3.py -> build\\lib.win-amd64-3.9\\pandas\\io\n",
      "  copying pandas\\io\\spss.py -> build\\lib.win-amd64-3.9\\pandas\\io\n",
      "  copying pandas\\io\\sql.py -> build\\lib.win-amd64-3.9\\pandas\\io\n",
      "  copying pandas\\io\\stata.py -> build\\lib.win-amd64-3.9\\pandas\\io\n",
      "  copying pandas\\io\\__init__.py -> build\\lib.win-amd64-3.9\\pandas\\io\n",
      "  creating build\\lib.win-amd64-3.9\\pandas\\plotting\n",
      "  copying pandas\\plotting\\_core.py -> build\\lib.win-amd64-3.9\\pandas\\plotting\n",
      "  copying pandas\\plotting\\_misc.py -> build\\lib.win-amd64-3.9\\pandas\\plotting\n",
      "  copying pandas\\plotting\\__init__.py -> build\\lib.win-amd64-3.9\\pandas\\plotting\n",
      "  creating build\\lib.win-amd64-3.9\\pandas\\tests\n",
      "  copying pandas\\tests\\test_algos.py -> build\\lib.win-amd64-3.9\\pandas\\tests\n",
      "  copying pandas\\tests\\test_base.py -> build\\lib.win-amd64-3.9\\pandas\\tests\n",
      "  copying pandas\\tests\\test_common.py -> build\\lib.win-amd64-3.9\\pandas\\tests\n",
      "  copying pandas\\tests\\test_compat.py -> build\\lib.win-amd64-3.9\\pandas\\tests\n"
     ]
    },
    {
     "name": "stdout",
     "output_type": "stream",
     "text": [
      "    Running setup.py install for pandas: finished with status 'error'\n",
      "  Rolling back uninstall of pandas\n",
      "  Moving to c:\\users\\23480\\anaconda3\\lib\\site-packages\\pandas-1.4.2.dist-info\\\n",
      "   from C:\\Users\\23480\\anaconda3\\Lib\\site-packages\\~andas-1.4.2.dist-info\n",
      "  Moving to c:\\users\\23480\\anaconda3\\lib\\site-packages\\pandas\\\n",
      "   from C:\\Users\\23480\\anaconda3\\Lib\\site-packages\\~andas\n"
     ]
    },
    {
     "name": "stderr",
     "output_type": "stream",
     "text": [
      "  copying pandas\\tests\\test_downstream.py -> build\\lib.win-amd64-3.9\\pandas\\tests\n",
      "  copying pandas\\tests\\test_errors.py -> build\\lib.win-amd64-3.9\\pandas\\tests\n",
      "  copying pandas\\tests\\test_expressions.py -> build\\lib.win-amd64-3.9\\pandas\\tests\n",
      "  copying pandas\\tests\\test_join.py -> build\\lib.win-amd64-3.9\\pandas\\tests\n",
      "  copying pandas\\tests\\test_lib.py -> build\\lib.win-amd64-3.9\\pandas\\tests\n",
      "  copying pandas\\tests\\test_multilevel.py -> build\\lib.win-amd64-3.9\\pandas\\tests\n",
      "  copying pandas\\tests\\test_nanops.py -> build\\lib.win-amd64-3.9\\pandas\\tests\n",
      "  copying pandas\\tests\\test_optional_dependency.py -> build\\lib.win-amd64-3.9\\pandas\\tests\n",
      "  copying pandas\\tests\\test_register_accessor.py -> build\\lib.win-amd64-3.9\\pandas\\tests\n",
      "  copying pandas\\tests\\test_sorting.py -> build\\lib.win-amd64-3.9\\pandas\\tests\n",
      "  copying pandas\\tests\\test_strings.py -> build\\lib.win-amd64-3.9\\pandas\\tests\n",
      "  copying pandas\\tests\\test_take.py -> build\\lib.win-amd64-3.9\\pandas\\tests\n",
      "  copying pandas\\tests\\__init__.py -> build\\lib.win-amd64-3.9\\pandas\\tests\n",
      "  creating build\\lib.win-amd64-3.9\\pandas\\tseries\n",
      "  copying pandas\\tseries\\api.py -> build\\lib.win-amd64-3.9\\pandas\\tseries\n",
      "  copying pandas\\tseries\\converter.py -> build\\lib.win-amd64-3.9\\pandas\\tseries\n",
      "  copying pandas\\tseries\\frequencies.py -> build\\lib.win-amd64-3.9\\pandas\\tseries\n",
      "  copying pandas\\tseries\\holiday.py -> build\\lib.win-amd64-3.9\\pandas\\tseries\n",
      "  copying pandas\\tseries\\offsets.py -> build\\lib.win-amd64-3.9\\pandas\\tseries\n",
      "  copying pandas\\tseries\\plotting.py -> build\\lib.win-amd64-3.9\\pandas\\tseries\n",
      "  copying pandas\\tseries\\__init__.py -> build\\lib.win-amd64-3.9\\pandas\\tseries\n",
      "  creating build\\lib.win-amd64-3.9\\pandas\\util\n",
      "  copying pandas\\util\\testing.py -> build\\lib.win-amd64-3.9\\pandas\\util\n",
      "  copying pandas\\util\\_decorators.py -> build\\lib.win-amd64-3.9\\pandas\\util\n",
      "  copying pandas\\util\\_depr_module.py -> build\\lib.win-amd64-3.9\\pandas\\util\n",
      "  copying pandas\\util\\_doctools.py -> build\\lib.win-amd64-3.9\\pandas\\util\n",
      "  copying pandas\\util\\_exceptions.py -> build\\lib.win-amd64-3.9\\pandas\\util\n",
      "  copying pandas\\util\\_print_versions.py -> build\\lib.win-amd64-3.9\\pandas\\util\n",
      "  copying pandas\\util\\_tester.py -> build\\lib.win-amd64-3.9\\pandas\\util\n",
      "  copying pandas\\util\\_test_decorators.py -> build\\lib.win-amd64-3.9\\pandas\\util\n",
      "  copying pandas\\util\\_validators.py -> build\\lib.win-amd64-3.9\\pandas\\util\n",
      "  copying pandas\\util\\__init__.py -> build\\lib.win-amd64-3.9\\pandas\\util\n",
      "  creating build\\lib.win-amd64-3.9\\pandas\\_config\n",
      "  copying pandas\\_config\\config.py -> build\\lib.win-amd64-3.9\\pandas\\_config\n",
      "  copying pandas\\_config\\dates.py -> build\\lib.win-amd64-3.9\\pandas\\_config\n",
      "  copying pandas\\_config\\display.py -> build\\lib.win-amd64-3.9\\pandas\\_config\n",
      "  copying pandas\\_config\\localization.py -> build\\lib.win-amd64-3.9\\pandas\\_config\n",
      "  copying pandas\\_config\\__init__.py -> build\\lib.win-amd64-3.9\\pandas\\_config\n",
      "  creating build\\lib.win-amd64-3.9\\pandas\\_libs\n",
      "  copying pandas\\_libs\\__init__.py -> build\\lib.win-amd64-3.9\\pandas\\_libs\n",
      "  creating build\\lib.win-amd64-3.9\\pandas\\api\\extensions\n",
      "  copying pandas\\api\\extensions\\__init__.py -> build\\lib.win-amd64-3.9\\pandas\\api\\extensions\n",
      "  creating build\\lib.win-amd64-3.9\\pandas\\api\\types\n",
      "  copying pandas\\api\\types\\__init__.py -> build\\lib.win-amd64-3.9\\pandas\\api\\types\n",
      "  creating build\\lib.win-amd64-3.9\\pandas\\compat\\numpy\n",
      "  copying pandas\\compat\\numpy\\function.py -> build\\lib.win-amd64-3.9\\pandas\\compat\\numpy\n",
      "  copying pandas\\compat\\numpy\\__init__.py -> build\\lib.win-amd64-3.9\\pandas\\compat\\numpy\n",
      "  creating build\\lib.win-amd64-3.9\\pandas\\core\\arrays\n",
      "  copying pandas\\core\\arrays\\array_.py -> build\\lib.win-amd64-3.9\\pandas\\core\\arrays\n",
      "  copying pandas\\core\\arrays\\base.py -> build\\lib.win-amd64-3.9\\pandas\\core\\arrays\n",
      "  copying pandas\\core\\arrays\\categorical.py -> build\\lib.win-amd64-3.9\\pandas\\core\\arrays\n",
      "  copying pandas\\core\\arrays\\datetimelike.py -> build\\lib.win-amd64-3.9\\pandas\\core\\arrays\n",
      "  copying pandas\\core\\arrays\\datetimes.py -> build\\lib.win-amd64-3.9\\pandas\\core\\arrays\n",
      "  copying pandas\\core\\arrays\\integer.py -> build\\lib.win-amd64-3.9\\pandas\\core\\arrays\n",
      "  copying pandas\\core\\arrays\\interval.py -> build\\lib.win-amd64-3.9\\pandas\\core\\arrays\n",
      "  copying pandas\\core\\arrays\\numpy_.py -> build\\lib.win-amd64-3.9\\pandas\\core\\arrays\n",
      "  copying pandas\\core\\arrays\\period.py -> build\\lib.win-amd64-3.9\\pandas\\core\\arrays\n",
      "  copying pandas\\core\\arrays\\sparse.py -> build\\lib.win-amd64-3.9\\pandas\\core\\arrays\n",
      "  copying pandas\\core\\arrays\\timedeltas.py -> build\\lib.win-amd64-3.9\\pandas\\core\\arrays\n",
      "  copying pandas\\core\\arrays\\_ranges.py -> build\\lib.win-amd64-3.9\\pandas\\core\\arrays\n",
      "  copying pandas\\core\\arrays\\__init__.py -> build\\lib.win-amd64-3.9\\pandas\\core\\arrays\n",
      "  creating build\\lib.win-amd64-3.9\\pandas\\core\\computation\n",
      "  copying pandas\\core\\computation\\align.py -> build\\lib.win-amd64-3.9\\pandas\\core\\computation\n",
      "  copying pandas\\core\\computation\\api.py -> build\\lib.win-amd64-3.9\\pandas\\core\\computation\n",
      "  copying pandas\\core\\computation\\check.py -> build\\lib.win-amd64-3.9\\pandas\\core\\computation\n",
      "  copying pandas\\core\\computation\\common.py -> build\\lib.win-amd64-3.9\\pandas\\core\\computation\n",
      "  copying pandas\\core\\computation\\engines.py -> build\\lib.win-amd64-3.9\\pandas\\core\\computation\n",
      "  copying pandas\\core\\computation\\eval.py -> build\\lib.win-amd64-3.9\\pandas\\core\\computation\n",
      "  copying pandas\\core\\computation\\expr.py -> build\\lib.win-amd64-3.9\\pandas\\core\\computation\n",
      "  copying pandas\\core\\computation\\expressions.py -> build\\lib.win-amd64-3.9\\pandas\\core\\computation\n",
      "  copying pandas\\core\\computation\\ops.py -> build\\lib.win-amd64-3.9\\pandas\\core\\computation\n",
      "  copying pandas\\core\\computation\\pytables.py -> build\\lib.win-amd64-3.9\\pandas\\core\\computation\n",
      "  copying pandas\\core\\computation\\scope.py -> build\\lib.win-amd64-3.9\\pandas\\core\\computation\n",
      "  copying pandas\\core\\computation\\__init__.py -> build\\lib.win-amd64-3.9\\pandas\\core\\computation\n",
      "  creating build\\lib.win-amd64-3.9\\pandas\\core\\dtypes\n",
      "  copying pandas\\core\\dtypes\\api.py -> build\\lib.win-amd64-3.9\\pandas\\core\\dtypes\n",
      "  copying pandas\\core\\dtypes\\base.py -> build\\lib.win-amd64-3.9\\pandas\\core\\dtypes\n",
      "  copying pandas\\core\\dtypes\\cast.py -> build\\lib.win-amd64-3.9\\pandas\\core\\dtypes\n",
      "  copying pandas\\core\\dtypes\\common.py -> build\\lib.win-amd64-3.9\\pandas\\core\\dtypes\n",
      "  copying pandas\\core\\dtypes\\concat.py -> build\\lib.win-amd64-3.9\\pandas\\core\\dtypes\n",
      "  copying pandas\\core\\dtypes\\dtypes.py -> build\\lib.win-amd64-3.9\\pandas\\core\\dtypes\n",
      "  copying pandas\\core\\dtypes\\generic.py -> build\\lib.win-amd64-3.9\\pandas\\core\\dtypes\n",
      "  copying pandas\\core\\dtypes\\inference.py -> build\\lib.win-amd64-3.9\\pandas\\core\\dtypes\n",
      "  copying pandas\\core\\dtypes\\missing.py -> build\\lib.win-amd64-3.9\\pandas\\core\\dtypes\n",
      "  copying pandas\\core\\dtypes\\__init__.py -> build\\lib.win-amd64-3.9\\pandas\\core\\dtypes\n"
     ]
    }
   ],
   "source": [
    "# Upgrade pandas to use dataframe.explode() function. \n",
    "!pip install --upgrade pandas==0.25.0"
   ]
  },
  {
   "cell_type": "markdown",
   "metadata": {},
   "source": [
    "<a id='wrangling'></a>\n",
    "## Data Wrangling\n",
    "\n",
    "> **Tip**: In this section of the report, you will load in the data, check for cleanliness, and then trim and clean your dataset for analysis. Make sure that you **document your data cleaning steps in mark-down cells precisely and justify your cleaning decisions.**\n",
    "\n",
    "\n",
    "### General Properties\n",
    "> **Tip**: You should _not_ perform too many operations in each cell. Create cells freely to explore your data. One option that you can take with this project is to do a lot of explorations in an initial notebook. These don't have to be organized, but make sure you use enough comments to understand the purpose of each code cell. Then, after you're done with your analysis, create a duplicate notebook where you will trim the excess and organize your steps so that you have a flowing, cohesive report."
   ]
  },
  {
   "cell_type": "code",
   "execution_count": 40,
   "metadata": {},
   "outputs": [
    {
     "data": {
      "text/html": [
       "<div>\n",
       "<style scoped>\n",
       "    .dataframe tbody tr th:only-of-type {\n",
       "        vertical-align: middle;\n",
       "    }\n",
       "\n",
       "    .dataframe tbody tr th {\n",
       "        vertical-align: top;\n",
       "    }\n",
       "\n",
       "    .dataframe thead th {\n",
       "        text-align: right;\n",
       "    }\n",
       "</style>\n",
       "<table border=\"1\" class=\"dataframe\">\n",
       "  <thead>\n",
       "    <tr style=\"text-align: right;\">\n",
       "      <th></th>\n",
       "      <th>PatientId</th>\n",
       "      <th>AppointmentID</th>\n",
       "      <th>Gender</th>\n",
       "      <th>ScheduledDay</th>\n",
       "      <th>AppointmentDay</th>\n",
       "      <th>Age</th>\n",
       "      <th>Neighbourhood</th>\n",
       "      <th>Scholarship</th>\n",
       "      <th>Hipertension</th>\n",
       "      <th>Diabetes</th>\n",
       "      <th>Alcoholism</th>\n",
       "      <th>Handcap</th>\n",
       "      <th>SMS_received</th>\n",
       "      <th>No-show</th>\n",
       "    </tr>\n",
       "  </thead>\n",
       "  <tbody>\n",
       "    <tr>\n",
       "      <th>0</th>\n",
       "      <td>2.987250e+13</td>\n",
       "      <td>5642903</td>\n",
       "      <td>F</td>\n",
       "      <td>2016-04-29T18:38:08Z</td>\n",
       "      <td>2016-04-29T00:00:00Z</td>\n",
       "      <td>62</td>\n",
       "      <td>JARDIM DA PENHA</td>\n",
       "      <td>0</td>\n",
       "      <td>1</td>\n",
       "      <td>0</td>\n",
       "      <td>0</td>\n",
       "      <td>0</td>\n",
       "      <td>0</td>\n",
       "      <td>No</td>\n",
       "    </tr>\n",
       "    <tr>\n",
       "      <th>1</th>\n",
       "      <td>5.589978e+14</td>\n",
       "      <td>5642503</td>\n",
       "      <td>M</td>\n",
       "      <td>2016-04-29T16:08:27Z</td>\n",
       "      <td>2016-04-29T00:00:00Z</td>\n",
       "      <td>56</td>\n",
       "      <td>JARDIM DA PENHA</td>\n",
       "      <td>0</td>\n",
       "      <td>0</td>\n",
       "      <td>0</td>\n",
       "      <td>0</td>\n",
       "      <td>0</td>\n",
       "      <td>0</td>\n",
       "      <td>No</td>\n",
       "    </tr>\n",
       "    <tr>\n",
       "      <th>2</th>\n",
       "      <td>4.262962e+12</td>\n",
       "      <td>5642549</td>\n",
       "      <td>F</td>\n",
       "      <td>2016-04-29T16:19:04Z</td>\n",
       "      <td>2016-04-29T00:00:00Z</td>\n",
       "      <td>62</td>\n",
       "      <td>MATA DA PRAIA</td>\n",
       "      <td>0</td>\n",
       "      <td>0</td>\n",
       "      <td>0</td>\n",
       "      <td>0</td>\n",
       "      <td>0</td>\n",
       "      <td>0</td>\n",
       "      <td>No</td>\n",
       "    </tr>\n",
       "    <tr>\n",
       "      <th>3</th>\n",
       "      <td>8.679512e+11</td>\n",
       "      <td>5642828</td>\n",
       "      <td>F</td>\n",
       "      <td>2016-04-29T17:29:31Z</td>\n",
       "      <td>2016-04-29T00:00:00Z</td>\n",
       "      <td>8</td>\n",
       "      <td>PONTAL DE CAMBURI</td>\n",
       "      <td>0</td>\n",
       "      <td>0</td>\n",
       "      <td>0</td>\n",
       "      <td>0</td>\n",
       "      <td>0</td>\n",
       "      <td>0</td>\n",
       "      <td>No</td>\n",
       "    </tr>\n",
       "    <tr>\n",
       "      <th>4</th>\n",
       "      <td>8.841186e+12</td>\n",
       "      <td>5642494</td>\n",
       "      <td>F</td>\n",
       "      <td>2016-04-29T16:07:23Z</td>\n",
       "      <td>2016-04-29T00:00:00Z</td>\n",
       "      <td>56</td>\n",
       "      <td>JARDIM DA PENHA</td>\n",
       "      <td>0</td>\n",
       "      <td>1</td>\n",
       "      <td>1</td>\n",
       "      <td>0</td>\n",
       "      <td>0</td>\n",
       "      <td>0</td>\n",
       "      <td>No</td>\n",
       "    </tr>\n",
       "  </tbody>\n",
       "</table>\n",
       "</div>"
      ],
      "text/plain": [
       "      PatientId  AppointmentID Gender          ScheduledDay  \\\n",
       "0  2.987250e+13        5642903      F  2016-04-29T18:38:08Z   \n",
       "1  5.589978e+14        5642503      M  2016-04-29T16:08:27Z   \n",
       "2  4.262962e+12        5642549      F  2016-04-29T16:19:04Z   \n",
       "3  8.679512e+11        5642828      F  2016-04-29T17:29:31Z   \n",
       "4  8.841186e+12        5642494      F  2016-04-29T16:07:23Z   \n",
       "\n",
       "         AppointmentDay  Age      Neighbourhood  Scholarship  Hipertension  \\\n",
       "0  2016-04-29T00:00:00Z   62    JARDIM DA PENHA            0             1   \n",
       "1  2016-04-29T00:00:00Z   56    JARDIM DA PENHA            0             0   \n",
       "2  2016-04-29T00:00:00Z   62      MATA DA PRAIA            0             0   \n",
       "3  2016-04-29T00:00:00Z    8  PONTAL DE CAMBURI            0             0   \n",
       "4  2016-04-29T00:00:00Z   56    JARDIM DA PENHA            0             1   \n",
       "\n",
       "   Diabetes  Alcoholism  Handcap  SMS_received No-show  \n",
       "0         0           0        0             0      No  \n",
       "1         0           0        0             0      No  \n",
       "2         0           0        0             0      No  \n",
       "3         0           0        0             0      No  \n",
       "4         1           0        0             0      No  "
      ]
     },
     "execution_count": 40,
     "metadata": {},
     "output_type": "execute_result"
    }
   ],
   "source": [
    "# Load your data and print out a few lines. Perform operations to inspect data\n",
    "#  types and look for instances of missing or possibly errant data.\n",
    "df=pd.read_csv('may2016.csv')\n",
    "df.head()"
   ]
  },
  {
   "cell_type": "code",
   "execution_count": 41,
   "metadata": {
    "scrolled": true
   },
   "outputs": [
    {
     "name": "stdout",
     "output_type": "stream",
     "text": [
      "<class 'pandas.core.frame.DataFrame'>\n",
      "RangeIndex: 110527 entries, 0 to 110526\n",
      "Data columns (total 14 columns):\n",
      " #   Column          Non-Null Count   Dtype  \n",
      "---  ------          --------------   -----  \n",
      " 0   PatientId       110527 non-null  float64\n",
      " 1   AppointmentID   110527 non-null  int64  \n",
      " 2   Gender          110527 non-null  object \n",
      " 3   ScheduledDay    110527 non-null  object \n",
      " 4   AppointmentDay  110527 non-null  object \n",
      " 5   Age             110527 non-null  int64  \n",
      " 6   Neighbourhood   110527 non-null  object \n",
      " 7   Scholarship     110527 non-null  int64  \n",
      " 8   Hipertension    110527 non-null  int64  \n",
      " 9   Diabetes        110527 non-null  int64  \n",
      " 10  Alcoholism      110527 non-null  int64  \n",
      " 11  Handcap         110527 non-null  int64  \n",
      " 12  SMS_received    110527 non-null  int64  \n",
      " 13  No-show         110527 non-null  object \n",
      "dtypes: float64(1), int64(8), object(5)\n",
      "memory usage: 11.8+ MB\n"
     ]
    }
   ],
   "source": [
    "#dsiplaying the properties of the columns in the dataset\n",
    "df.info()"
   ]
  },
  {
   "cell_type": "markdown",
   "metadata": {},
   "source": [
    "The dataset has two columns with incorrect types\n",
    "\n",
    "- ScheduledDay\n",
    "- AppointmentDay\n",
    "So, we wil convert them to datetime types\n",
    "\n",
    "Also, \n",
    "- Hipertension and\n",
    "- Handcap\n",
    "\n",
    "are wrongly spelt"
   ]
  },
  {
   "cell_type": "code",
   "execution_count": 43,
   "metadata": {},
   "outputs": [
    {
     "data": {
      "text/plain": [
       "0   2016-04-29 18:38:08+00:00\n",
       "1   2016-04-29 16:08:27+00:00\n",
       "Name: ScheduledDay, dtype: datetime64[ns, UTC]"
      ]
     },
     "execution_count": 43,
     "metadata": {},
     "output_type": "execute_result"
    }
   ],
   "source": [
    "# Convert ScheduledDay str to datetime type\n",
    "df.ScheduledDay = pd.to_datetime(df.ScheduledDay)\n",
    "df.ScheduledDay.head(2)"
   ]
  },
  {
   "cell_type": "code",
   "execution_count": 104,
   "metadata": {},
   "outputs": [
    {
     "data": {
      "text/plain": [
       "0   2016-04-29 00:00:00+00:00\n",
       "1   2016-04-29 00:00:00+00:00\n",
       "Name: AppointmentDay, dtype: datetime64[ns, UTC]"
      ]
     },
     "execution_count": 104,
     "metadata": {},
     "output_type": "execute_result"
    }
   ],
   "source": [
    "# Convert ScheduledDay str to datetime type\n",
    "df.AppointmentDay = pd.to_datetime(df.AppointmentDay)\n",
    "df.AppointmentDay.head(2)"
   ]
  },
  {
   "cell_type": "code",
   "execution_count": 105,
   "metadata": {},
   "outputs": [
    {
     "name": "stdout",
     "output_type": "stream",
     "text": [
      "<class 'pandas.core.frame.DataFrame'>\n",
      "Int64Index: 110526 entries, 0 to 110526\n",
      "Data columns (total 16 columns):\n",
      " #   Column          Non-Null Count   Dtype              \n",
      "---  ------          --------------   -----              \n",
      " 0   PatientId       110526 non-null  float64            \n",
      " 1   AppointmentID   110526 non-null  int64              \n",
      " 2   Gender          110526 non-null  object             \n",
      " 3   ScheduledDay    110526 non-null  datetime64[ns, UTC]\n",
      " 4   AppointmentDay  110526 non-null  datetime64[ns, UTC]\n",
      " 5   Age             110526 non-null  int64              \n",
      " 6   Neighbourhood   110526 non-null  object             \n",
      " 7   Scholarship     110526 non-null  int64              \n",
      " 8   Hypertension    110526 non-null  int64              \n",
      " 9   Diabetes        110526 non-null  int64              \n",
      " 10  Alcoholism      110526 non-null  int64              \n",
      " 11  Handicap        110526 non-null  int64              \n",
      " 12  SMS_received    110526 non-null  int64              \n",
      " 13  No-show         110526 non-null  object             \n",
      " 14  Age_bin10       106987 non-null  category           \n",
      " 15  missed          110526 non-null  int32              \n",
      "dtypes: category(1), datetime64[ns, UTC](2), float64(1), int32(1), int64(8), object(3)\n",
      "memory usage: 13.2+ MB\n"
     ]
    }
   ],
   "source": [
    "#checking the datetime conversion worked\n",
    "df.info()"
   ]
  },
  {
   "cell_type": "code",
   "execution_count": 106,
   "metadata": {},
   "outputs": [],
   "source": [
    "#renaming the two columns wrongly spelled\n",
    "df.rename(columns = {'Hipertension':'Hypertension', 'Handcap':'Handicap'}, inplace = True)"
   ]
  },
  {
   "cell_type": "code",
   "execution_count": 107,
   "metadata": {},
   "outputs": [
    {
     "data": {
      "text/plain": [
       "Index(['PatientId', 'AppointmentID', 'Gender', 'ScheduledDay',\n",
       "       'AppointmentDay', 'Age', 'Neighbourhood', 'Scholarship', 'Hypertension',\n",
       "       'Diabetes', 'Alcoholism', 'Handicap', 'SMS_received', 'No-show',\n",
       "       'Age_bin10', 'missed'],\n",
       "      dtype='object')"
      ]
     },
     "execution_count": 107,
     "metadata": {},
     "output_type": "execute_result"
    }
   ],
   "source": [
    "df.columns"
   ]
  },
  {
   "cell_type": "code",
   "execution_count": 108,
   "metadata": {},
   "outputs": [
    {
     "data": {
      "text/html": [
       "<div>\n",
       "<style scoped>\n",
       "    .dataframe tbody tr th:only-of-type {\n",
       "        vertical-align: middle;\n",
       "    }\n",
       "\n",
       "    .dataframe tbody tr th {\n",
       "        vertical-align: top;\n",
       "    }\n",
       "\n",
       "    .dataframe thead th {\n",
       "        text-align: right;\n",
       "    }\n",
       "</style>\n",
       "<table border=\"1\" class=\"dataframe\">\n",
       "  <thead>\n",
       "    <tr style=\"text-align: right;\">\n",
       "      <th></th>\n",
       "      <th>PatientId</th>\n",
       "      <th>AppointmentID</th>\n",
       "      <th>Age</th>\n",
       "      <th>Scholarship</th>\n",
       "      <th>Hypertension</th>\n",
       "      <th>Diabetes</th>\n",
       "      <th>Alcoholism</th>\n",
       "      <th>Handicap</th>\n",
       "      <th>SMS_received</th>\n",
       "      <th>missed</th>\n",
       "    </tr>\n",
       "  </thead>\n",
       "  <tbody>\n",
       "    <tr>\n",
       "      <th>count</th>\n",
       "      <td>1.105260e+05</td>\n",
       "      <td>1.105260e+05</td>\n",
       "      <td>110526.000000</td>\n",
       "      <td>110526.000000</td>\n",
       "      <td>110526.000000</td>\n",
       "      <td>110526.000000</td>\n",
       "      <td>110526.000000</td>\n",
       "      <td>110526.000000</td>\n",
       "      <td>110526.000000</td>\n",
       "      <td>110526.000000</td>\n",
       "    </tr>\n",
       "    <tr>\n",
       "      <th>mean</th>\n",
       "      <td>1.474934e+14</td>\n",
       "      <td>5.675304e+06</td>\n",
       "      <td>37.089219</td>\n",
       "      <td>0.098266</td>\n",
       "      <td>0.197248</td>\n",
       "      <td>0.071865</td>\n",
       "      <td>0.030400</td>\n",
       "      <td>0.022248</td>\n",
       "      <td>0.321029</td>\n",
       "      <td>0.201934</td>\n",
       "    </tr>\n",
       "    <tr>\n",
       "      <th>std</th>\n",
       "      <td>2.560943e+14</td>\n",
       "      <td>7.129544e+04</td>\n",
       "      <td>23.110026</td>\n",
       "      <td>0.297676</td>\n",
       "      <td>0.397923</td>\n",
       "      <td>0.258266</td>\n",
       "      <td>0.171686</td>\n",
       "      <td>0.161543</td>\n",
       "      <td>0.466874</td>\n",
       "      <td>0.401445</td>\n",
       "    </tr>\n",
       "    <tr>\n",
       "      <th>min</th>\n",
       "      <td>3.921784e+04</td>\n",
       "      <td>5.030230e+06</td>\n",
       "      <td>0.000000</td>\n",
       "      <td>0.000000</td>\n",
       "      <td>0.000000</td>\n",
       "      <td>0.000000</td>\n",
       "      <td>0.000000</td>\n",
       "      <td>0.000000</td>\n",
       "      <td>0.000000</td>\n",
       "      <td>0.000000</td>\n",
       "    </tr>\n",
       "    <tr>\n",
       "      <th>25%</th>\n",
       "      <td>4.172536e+12</td>\n",
       "      <td>5.640285e+06</td>\n",
       "      <td>18.000000</td>\n",
       "      <td>0.000000</td>\n",
       "      <td>0.000000</td>\n",
       "      <td>0.000000</td>\n",
       "      <td>0.000000</td>\n",
       "      <td>0.000000</td>\n",
       "      <td>0.000000</td>\n",
       "      <td>0.000000</td>\n",
       "    </tr>\n",
       "    <tr>\n",
       "      <th>50%</th>\n",
       "      <td>3.173184e+13</td>\n",
       "      <td>5.680572e+06</td>\n",
       "      <td>37.000000</td>\n",
       "      <td>0.000000</td>\n",
       "      <td>0.000000</td>\n",
       "      <td>0.000000</td>\n",
       "      <td>0.000000</td>\n",
       "      <td>0.000000</td>\n",
       "      <td>0.000000</td>\n",
       "      <td>0.000000</td>\n",
       "    </tr>\n",
       "    <tr>\n",
       "      <th>75%</th>\n",
       "      <td>9.438963e+13</td>\n",
       "      <td>5.725523e+06</td>\n",
       "      <td>55.000000</td>\n",
       "      <td>0.000000</td>\n",
       "      <td>0.000000</td>\n",
       "      <td>0.000000</td>\n",
       "      <td>0.000000</td>\n",
       "      <td>0.000000</td>\n",
       "      <td>1.000000</td>\n",
       "      <td>0.000000</td>\n",
       "    </tr>\n",
       "    <tr>\n",
       "      <th>max</th>\n",
       "      <td>9.999816e+14</td>\n",
       "      <td>5.790484e+06</td>\n",
       "      <td>115.000000</td>\n",
       "      <td>1.000000</td>\n",
       "      <td>1.000000</td>\n",
       "      <td>1.000000</td>\n",
       "      <td>1.000000</td>\n",
       "      <td>4.000000</td>\n",
       "      <td>1.000000</td>\n",
       "      <td>1.000000</td>\n",
       "    </tr>\n",
       "  </tbody>\n",
       "</table>\n",
       "</div>"
      ],
      "text/plain": [
       "          PatientId  AppointmentID            Age    Scholarship  \\\n",
       "count  1.105260e+05   1.105260e+05  110526.000000  110526.000000   \n",
       "mean   1.474934e+14   5.675304e+06      37.089219       0.098266   \n",
       "std    2.560943e+14   7.129544e+04      23.110026       0.297676   \n",
       "min    3.921784e+04   5.030230e+06       0.000000       0.000000   \n",
       "25%    4.172536e+12   5.640285e+06      18.000000       0.000000   \n",
       "50%    3.173184e+13   5.680572e+06      37.000000       0.000000   \n",
       "75%    9.438963e+13   5.725523e+06      55.000000       0.000000   \n",
       "max    9.999816e+14   5.790484e+06     115.000000       1.000000   \n",
       "\n",
       "        Hypertension       Diabetes     Alcoholism       Handicap  \\\n",
       "count  110526.000000  110526.000000  110526.000000  110526.000000   \n",
       "mean        0.197248       0.071865       0.030400       0.022248   \n",
       "std         0.397923       0.258266       0.171686       0.161543   \n",
       "min         0.000000       0.000000       0.000000       0.000000   \n",
       "25%         0.000000       0.000000       0.000000       0.000000   \n",
       "50%         0.000000       0.000000       0.000000       0.000000   \n",
       "75%         0.000000       0.000000       0.000000       0.000000   \n",
       "max         1.000000       1.000000       1.000000       4.000000   \n",
       "\n",
       "        SMS_received         missed  \n",
       "count  110526.000000  110526.000000  \n",
       "mean        0.321029       0.201934  \n",
       "std         0.466874       0.401445  \n",
       "min         0.000000       0.000000  \n",
       "25%         0.000000       0.000000  \n",
       "50%         0.000000       0.000000  \n",
       "75%         1.000000       0.000000  \n",
       "max         1.000000       1.000000  "
      ]
     },
     "execution_count": 108,
     "metadata": {},
     "output_type": "execute_result"
    }
   ],
   "source": [
    "#describing the numberical columns in the dataset\n",
    "df.describe()"
   ]
  },
  {
   "cell_type": "code",
   "execution_count": 109,
   "metadata": {},
   "outputs": [
    {
     "data": {
      "text/plain": [
       "Index(['PatientId', 'AppointmentID', 'Gender', 'ScheduledDay',\n",
       "       'AppointmentDay', 'Age', 'Neighbourhood', 'Scholarship', 'Hypertension',\n",
       "       'Diabetes', 'Alcoholism', 'Handicap', 'SMS_received', 'No-show',\n",
       "       'Age_bin10', 'missed'],\n",
       "      dtype='object')"
      ]
     },
     "execution_count": 109,
     "metadata": {},
     "output_type": "execute_result"
    }
   ],
   "source": [
    "#displaying the coulmn names\n",
    "df.columns"
   ]
  },
  {
   "cell_type": "code",
   "execution_count": 110,
   "metadata": {},
   "outputs": [
    {
     "data": {
      "text/plain": [
       "(110526, 16)"
      ]
     },
     "execution_count": 110,
     "metadata": {},
     "output_type": "execute_result"
    }
   ],
   "source": [
    "#dsiplaying the number of rows and columns in the dataset\n",
    "df.shape"
   ]
  },
  {
   "cell_type": "markdown",
   "metadata": {},
   "source": [
    "The dataset has:\n",
    "\n",
    "- 110,527 record\n",
    "- 14 column"
   ]
  },
  {
   "cell_type": "code",
   "execution_count": 111,
   "metadata": {},
   "outputs": [
    {
     "data": {
      "text/plain": [
       "PatientId          62298\n",
       "AppointmentID     110526\n",
       "Gender                 2\n",
       "ScheduledDay      103548\n",
       "AppointmentDay        27\n",
       "Age                  103\n",
       "Neighbourhood         81\n",
       "Scholarship            2\n",
       "Hypertension           2\n",
       "Diabetes               2\n",
       "Alcoholism             2\n",
       "Handicap               5\n",
       "SMS_received           2\n",
       "No-show                2\n",
       "Age_bin10             11\n",
       "missed                 2\n",
       "dtype: int64"
      ]
     },
     "execution_count": 111,
     "metadata": {},
     "output_type": "execute_result"
    }
   ],
   "source": [
    "#check the unique values present in each column\n",
    "df.nunique()"
   ]
  },
  {
   "cell_type": "code",
   "execution_count": 112,
   "metadata": {},
   "outputs": [
    {
     "data": {
      "text/plain": [
       "PatientId                     float64\n",
       "AppointmentID                   int64\n",
       "Gender                         object\n",
       "ScheduledDay      datetime64[ns, UTC]\n",
       "AppointmentDay    datetime64[ns, UTC]\n",
       "Age                             int64\n",
       "Neighbourhood                  object\n",
       "Scholarship                     int64\n",
       "Hypertension                    int64\n",
       "Diabetes                        int64\n",
       "Alcoholism                      int64\n",
       "Handicap                        int64\n",
       "SMS_received                    int64\n",
       "No-show                        object\n",
       "Age_bin10                    category\n",
       "missed                          int32\n",
       "dtype: object"
      ]
     },
     "execution_count": 112,
     "metadata": {},
     "output_type": "execute_result"
    }
   ],
   "source": [
    "#confirming dtypes ok\n",
    "df.dtypes"
   ]
  },
  {
   "cell_type": "code",
   "execution_count": 113,
   "metadata": {},
   "outputs": [
    {
     "data": {
      "text/plain": [
       "PatientId            0\n",
       "AppointmentID        0\n",
       "Gender               0\n",
       "ScheduledDay         0\n",
       "AppointmentDay       0\n",
       "Age                  0\n",
       "Neighbourhood        0\n",
       "Scholarship          0\n",
       "Hypertension         0\n",
       "Diabetes             0\n",
       "Alcoholism           0\n",
       "Handicap             0\n",
       "SMS_received         0\n",
       "No-show              0\n",
       "Age_bin10         3539\n",
       "missed               0\n",
       "dtype: int64"
      ]
     },
     "execution_count": 113,
     "metadata": {},
     "output_type": "execute_result"
    }
   ],
   "source": [
    "#check for missing values\n",
    "df.isnull().sum()"
   ]
  },
  {
   "cell_type": "markdown",
   "metadata": {},
   "source": [
    "The dataset  has no missing values"
   ]
  },
  {
   "cell_type": "code",
   "execution_count": 114,
   "metadata": {},
   "outputs": [],
   "source": [
    "#pd.plotting.scatter_matrix(df,figsize=(25,5))"
   ]
  },
  {
   "cell_type": "markdown",
   "metadata": {},
   "source": [
    "\n",
    "### Data Cleaning\n",
    "> **Tip**: Make sure that you keep your reader informed on the steps that you are taking in your investigation. Follow every code cell, or every set of related code cells, with a markdown cell to describe to the reader what was found in the preceding cell(s). Try to make it so that the reader can then understand what they will be seeing in the following cell(s).\n",
    " "
   ]
  },
  {
   "cell_type": "code",
   "execution_count": 115,
   "metadata": {},
   "outputs": [
    {
     "data": {
      "text/html": [
       "<div>\n",
       "<style scoped>\n",
       "    .dataframe tbody tr th:only-of-type {\n",
       "        vertical-align: middle;\n",
       "    }\n",
       "\n",
       "    .dataframe tbody tr th {\n",
       "        vertical-align: top;\n",
       "    }\n",
       "\n",
       "    .dataframe thead th {\n",
       "        text-align: right;\n",
       "    }\n",
       "</style>\n",
       "<table border=\"1\" class=\"dataframe\">\n",
       "  <thead>\n",
       "    <tr style=\"text-align: right;\">\n",
       "      <th></th>\n",
       "      <th>PatientId</th>\n",
       "      <th>AppointmentID</th>\n",
       "      <th>Age</th>\n",
       "      <th>Scholarship</th>\n",
       "      <th>Hypertension</th>\n",
       "      <th>Diabetes</th>\n",
       "      <th>Alcoholism</th>\n",
       "      <th>Handicap</th>\n",
       "      <th>SMS_received</th>\n",
       "      <th>missed</th>\n",
       "    </tr>\n",
       "  </thead>\n",
       "  <tbody>\n",
       "    <tr>\n",
       "      <th>count</th>\n",
       "      <td>1.105260e+05</td>\n",
       "      <td>1.105260e+05</td>\n",
       "      <td>110526.000000</td>\n",
       "      <td>110526.000000</td>\n",
       "      <td>110526.000000</td>\n",
       "      <td>110526.000000</td>\n",
       "      <td>110526.000000</td>\n",
       "      <td>110526.000000</td>\n",
       "      <td>110526.000000</td>\n",
       "      <td>110526.000000</td>\n",
       "    </tr>\n",
       "    <tr>\n",
       "      <th>mean</th>\n",
       "      <td>1.474934e+14</td>\n",
       "      <td>5.675304e+06</td>\n",
       "      <td>37.089219</td>\n",
       "      <td>0.098266</td>\n",
       "      <td>0.197248</td>\n",
       "      <td>0.071865</td>\n",
       "      <td>0.030400</td>\n",
       "      <td>0.022248</td>\n",
       "      <td>0.321029</td>\n",
       "      <td>0.201934</td>\n",
       "    </tr>\n",
       "    <tr>\n",
       "      <th>std</th>\n",
       "      <td>2.560943e+14</td>\n",
       "      <td>7.129544e+04</td>\n",
       "      <td>23.110026</td>\n",
       "      <td>0.297676</td>\n",
       "      <td>0.397923</td>\n",
       "      <td>0.258266</td>\n",
       "      <td>0.171686</td>\n",
       "      <td>0.161543</td>\n",
       "      <td>0.466874</td>\n",
       "      <td>0.401445</td>\n",
       "    </tr>\n",
       "    <tr>\n",
       "      <th>min</th>\n",
       "      <td>3.921784e+04</td>\n",
       "      <td>5.030230e+06</td>\n",
       "      <td>0.000000</td>\n",
       "      <td>0.000000</td>\n",
       "      <td>0.000000</td>\n",
       "      <td>0.000000</td>\n",
       "      <td>0.000000</td>\n",
       "      <td>0.000000</td>\n",
       "      <td>0.000000</td>\n",
       "      <td>0.000000</td>\n",
       "    </tr>\n",
       "    <tr>\n",
       "      <th>25%</th>\n",
       "      <td>4.172536e+12</td>\n",
       "      <td>5.640285e+06</td>\n",
       "      <td>18.000000</td>\n",
       "      <td>0.000000</td>\n",
       "      <td>0.000000</td>\n",
       "      <td>0.000000</td>\n",
       "      <td>0.000000</td>\n",
       "      <td>0.000000</td>\n",
       "      <td>0.000000</td>\n",
       "      <td>0.000000</td>\n",
       "    </tr>\n",
       "    <tr>\n",
       "      <th>50%</th>\n",
       "      <td>3.173184e+13</td>\n",
       "      <td>5.680572e+06</td>\n",
       "      <td>37.000000</td>\n",
       "      <td>0.000000</td>\n",
       "      <td>0.000000</td>\n",
       "      <td>0.000000</td>\n",
       "      <td>0.000000</td>\n",
       "      <td>0.000000</td>\n",
       "      <td>0.000000</td>\n",
       "      <td>0.000000</td>\n",
       "    </tr>\n",
       "    <tr>\n",
       "      <th>75%</th>\n",
       "      <td>9.438963e+13</td>\n",
       "      <td>5.725523e+06</td>\n",
       "      <td>55.000000</td>\n",
       "      <td>0.000000</td>\n",
       "      <td>0.000000</td>\n",
       "      <td>0.000000</td>\n",
       "      <td>0.000000</td>\n",
       "      <td>0.000000</td>\n",
       "      <td>1.000000</td>\n",
       "      <td>0.000000</td>\n",
       "    </tr>\n",
       "    <tr>\n",
       "      <th>max</th>\n",
       "      <td>9.999816e+14</td>\n",
       "      <td>5.790484e+06</td>\n",
       "      <td>115.000000</td>\n",
       "      <td>1.000000</td>\n",
       "      <td>1.000000</td>\n",
       "      <td>1.000000</td>\n",
       "      <td>1.000000</td>\n",
       "      <td>4.000000</td>\n",
       "      <td>1.000000</td>\n",
       "      <td>1.000000</td>\n",
       "    </tr>\n",
       "  </tbody>\n",
       "</table>\n",
       "</div>"
      ],
      "text/plain": [
       "          PatientId  AppointmentID            Age    Scholarship  \\\n",
       "count  1.105260e+05   1.105260e+05  110526.000000  110526.000000   \n",
       "mean   1.474934e+14   5.675304e+06      37.089219       0.098266   \n",
       "std    2.560943e+14   7.129544e+04      23.110026       0.297676   \n",
       "min    3.921784e+04   5.030230e+06       0.000000       0.000000   \n",
       "25%    4.172536e+12   5.640285e+06      18.000000       0.000000   \n",
       "50%    3.173184e+13   5.680572e+06      37.000000       0.000000   \n",
       "75%    9.438963e+13   5.725523e+06      55.000000       0.000000   \n",
       "max    9.999816e+14   5.790484e+06     115.000000       1.000000   \n",
       "\n",
       "        Hypertension       Diabetes     Alcoholism       Handicap  \\\n",
       "count  110526.000000  110526.000000  110526.000000  110526.000000   \n",
       "mean        0.197248       0.071865       0.030400       0.022248   \n",
       "std         0.397923       0.258266       0.171686       0.161543   \n",
       "min         0.000000       0.000000       0.000000       0.000000   \n",
       "25%         0.000000       0.000000       0.000000       0.000000   \n",
       "50%         0.000000       0.000000       0.000000       0.000000   \n",
       "75%         0.000000       0.000000       0.000000       0.000000   \n",
       "max         1.000000       1.000000       1.000000       4.000000   \n",
       "\n",
       "        SMS_received         missed  \n",
       "count  110526.000000  110526.000000  \n",
       "mean        0.321029       0.201934  \n",
       "std         0.466874       0.401445  \n",
       "min         0.000000       0.000000  \n",
       "25%         0.000000       0.000000  \n",
       "50%         0.000000       0.000000  \n",
       "75%         1.000000       0.000000  \n",
       "max         1.000000       1.000000  "
      ]
     },
     "execution_count": 115,
     "metadata": {},
     "output_type": "execute_result"
    }
   ],
   "source": [
    "# After discussing the structure of the data and any problems that need to be\n",
    "#   cleaned, perform those cleaning steps in the second part of this section.\n",
    "\n",
    "df.describe()"
   ]
  },
  {
   "cell_type": "markdown",
   "metadata": {},
   "source": [
    "- The columns: - Age has an incorrect value -1\n",
    "               - Handcap has max value of 4\n",
    " - Let us check it"
   ]
  },
  {
   "cell_type": "code",
   "execution_count": 116,
   "metadata": {},
   "outputs": [
    {
     "data": {
      "text/plain": [
       "0      3539\n",
       "1      2273\n",
       "52     1746\n",
       "49     1652\n",
       "53     1651\n",
       "       ... \n",
       "98        6\n",
       "115       5\n",
       "100       4\n",
       "102       2\n",
       "99        1\n",
       "Name: Age, Length: 103, dtype: int64"
      ]
     },
     "execution_count": 116,
     "metadata": {},
     "output_type": "execute_result"
    }
   ],
   "source": [
    "df.Age.value_counts()"
   ]
  },
  {
   "cell_type": "markdown",
   "metadata": {},
   "source": [
    "Remove Age value = -1"
   ]
  },
  {
   "cell_type": "code",
   "execution_count": 117,
   "metadata": {},
   "outputs": [],
   "source": [
    "#removing the age value less than 0\n",
    "mask=~df['Age'] < 0 \n",
    "df[mask]\n",
    "df=df[mask]"
   ]
  },
  {
   "cell_type": "code",
   "execution_count": 118,
   "metadata": {},
   "outputs": [
    {
     "data": {
      "text/plain": [
       "0      3539\n",
       "1      2273\n",
       "52     1746\n",
       "49     1652\n",
       "53     1651\n",
       "       ... \n",
       "98        6\n",
       "115       5\n",
       "100       4\n",
       "102       2\n",
       "99        1\n",
       "Name: Age, Length: 103, dtype: int64"
      ]
     },
     "execution_count": 118,
     "metadata": {},
     "output_type": "execute_result"
    }
   ],
   "source": [
    "#checking for incorrect value in age column\n",
    "df.Age.value_counts()"
   ]
  },
  {
   "cell_type": "code",
   "execution_count": 119,
   "metadata": {},
   "outputs": [
    {
     "data": {
      "text/plain": [
       "0    108285\n",
       "1      2042\n",
       "2       183\n",
       "3        13\n",
       "4         3\n",
       "Name: Handicap, dtype: int64"
      ]
     },
     "execution_count": 119,
     "metadata": {},
     "output_type": "execute_result"
    }
   ],
   "source": [
    "#inspecting handIcap columns\n",
    "df.Handicap.value_counts()"
   ]
  },
  {
   "cell_type": "markdown",
   "metadata": {},
   "source": [
    "By doing some research on the dataset page:\n",
    "\n",
    "- Question regarding to Handcap : https://www.kaggle.com/joniarroba/noshowappointments/discussion/29699\n",
    "\n",
    " \"... the handicap refers to the number of desabilites a person has.For example, if the person is blind and can't walk the total is 2.\"\n"
   ]
  },
  {
   "cell_type": "code",
   "execution_count": 120,
   "metadata": {},
   "outputs": [
    {
     "data": {
      "text/plain": [
       "0"
      ]
     },
     "execution_count": 120,
     "metadata": {},
     "output_type": "execute_result"
    }
   ],
   "source": [
    "#checking for duplicated values\n",
    "df.duplicated().sum()"
   ]
  },
  {
   "cell_type": "markdown",
   "metadata": {},
   "source": [
    "Cleaning and evaluating the results:\n",
    "\n",
    "- There are 110,527 records in the dataset, with 14 columns. After removing an entry from the 'Age' column, we now have: 10,5276 records and 14 columns.\n",
    "\n",
    "- The datetime data type was required for the data columns (ScheduledDay, AppointmentDay).\n",
    "\n",
    "- In the dataset, there were no missing values.\n",
    "\n",
    "- We removed the row that included the Age column since one of its values was equal to -1.\n",
    "\n",
    "- The Handcap column contains more than two values, and we discovered via investigation that it corresponds to a person's number of impairments.\n",
    "\n",
    "- There are no duplicate rows in the dataset."
   ]
  },
  {
   "cell_type": "markdown",
   "metadata": {},
   "source": [
    "<a id='eda'></a>\n",
    "## Exploratory Data Analysis\n"
   ]
  },
  {
   "cell_type": "code",
   "execution_count": 121,
   "metadata": {},
   "outputs": [
    {
     "name": "stdout",
     "output_type": "stream",
     "text": [
      "<class 'pandas.core.frame.DataFrame'>\n",
      "Int64Index: 110526 entries, 0 to 110526\n",
      "Data columns (total 16 columns):\n",
      " #   Column          Non-Null Count   Dtype              \n",
      "---  ------          --------------   -----              \n",
      " 0   PatientId       110526 non-null  float64            \n",
      " 1   AppointmentID   110526 non-null  int64              \n",
      " 2   Gender          110526 non-null  object             \n",
      " 3   ScheduledDay    110526 non-null  datetime64[ns, UTC]\n",
      " 4   AppointmentDay  110526 non-null  datetime64[ns, UTC]\n",
      " 5   Age             110526 non-null  int64              \n",
      " 6   Neighbourhood   110526 non-null  object             \n",
      " 7   Scholarship     110526 non-null  int64              \n",
      " 8   Hypertension    110526 non-null  int64              \n",
      " 9   Diabetes        110526 non-null  int64              \n",
      " 10  Alcoholism      110526 non-null  int64              \n",
      " 11  Handicap        110526 non-null  int64              \n",
      " 12  SMS_received    110526 non-null  int64              \n",
      " 13  No-show         110526 non-null  object             \n",
      " 14  Age_bin10       106987 non-null  category           \n",
      " 15  missed          110526 non-null  int32              \n",
      "dtypes: category(1), datetime64[ns, UTC](2), float64(1), int32(1), int64(8), object(3)\n",
      "memory usage: 13.2+ MB\n"
     ]
    }
   ],
   "source": [
    "df.info()"
   ]
  },
  {
   "cell_type": "markdown",
   "metadata": {},
   "source": [
    "# The ratio between males and females"
   ]
  },
  {
   "cell_type": "code",
   "execution_count": 122,
   "metadata": {},
   "outputs": [
    {
     "data": {
      "text/plain": [
       "F    0.649974\n",
       "M    0.350026\n",
       "Name: Gender, dtype: float64"
      ]
     },
     "execution_count": 122,
     "metadata": {},
     "output_type": "execute_result"
    }
   ],
   "source": [
    "df.Gender.value_counts(normalize=True)"
   ]
  },
  {
   "cell_type": "code",
   "execution_count": 123,
   "metadata": {},
   "outputs": [
    {
     "data": {
      "image/png": "[encoded data removed]",
      "text/plain": [
       "<Figure size 432x288 with 1 Axes>"
      ]
     },
     "metadata": {
      "needs_background": "light"
     },
     "output_type": "display_data"
    }
   ],
   "source": [
    "df.Gender.value_counts().plot(kind=\"bar\")\n",
    "plt.title(\"Gender\");"
   ]
  },
  {
   "cell_type": "code",
   "execution_count": 124,
   "metadata": {},
   "outputs": [
    {
     "data": {
      "image/png": "[encoded data removed]",
      "text/plain": [
       "<Figure size 432x288 with 1 Axes>"
      ]
     },
     "metadata": {},
     "output_type": "display_data"
    }
   ],
   "source": [
    "df[\"Gender\"].value_counts().plot(kind=\"pie\",labels=[\"Females\",\"Males\"],   autopct='%1.0f%%')\n",
    "plt.ylabel(\"Count\")\n",
    "plt.title(\"Gender\");"
   ]
  },
  {
   "cell_type": "code",
   "execution_count": 125,
   "metadata": {},
   "outputs": [
    {
     "name": "stdout",
     "output_type": "stream",
     "text": [
      "The females to males ratio : (71839:38687) -> 1.86\n"
     ]
    }
   ],
   "source": [
    "print(\"The females to males ratio : (\",(df.Gender == \"F\").sum() ,\":\", (df.Gender == \"M\").sum() ,\") -> \", round((df.Gender == \"F\").sum() / (df.Gender == \"M\").sum(),2),sep=\"\" )"
   ]
  },
  {
   "cell_type": "markdown",
   "metadata": {},
   "source": [
    "Females outnumber males by a significant margin (the number of females is near twice the number of men)"
   ]
  },
  {
   "cell_type": "code",
   "execution_count": 126,
   "metadata": {},
   "outputs": [
    {
     "data": {
      "text/plain": [
       "Text(0.5, 1.0, \"'ScheduledDay' Histogram\")"
      ]
     },
     "execution_count": 126,
     "metadata": {},
     "output_type": "execute_result"
    },
    {
     "data": {
      "image/png": "[encoded data removed]",
      "text/plain": [
       "<Figure size 1080x360 with 1 Axes>"
      ]
     },
     "metadata": {
      "needs_background": "light"
     },
     "output_type": "display_data"
    }
   ],
   "source": [
    "# histogram plot for 'ScheduledDay'\n",
    "df.ScheduledDay.hist(bins=30,figsize=(15,5));\n",
    "plt.xlabel(\"ScheduledDay\")\n",
    "plt.ylabel(\"Count\")\n",
    "plt.title(\"'ScheduledDay' Histogram\")"
   ]
  },
  {
   "cell_type": "code",
   "execution_count": 127,
   "metadata": {},
   "outputs": [
    {
     "data": {
      "text/plain": [
       "Text(0.5, 1.0, \"'ScheduledDay' Line chart\")"
      ]
     },
     "execution_count": 127,
     "metadata": {},
     "output_type": "execute_result"
    },
    {
     "data": {
      "image/png": "[encoded data removed]",
      "text/plain": [
       "<Figure size 720x288 with 1 Axes>"
      ]
     },
     "metadata": {
      "needs_background": "light"
     },
     "output_type": "display_data"
    }
   ],
   "source": [
    "# line chart plot for 'ScheduledDay'\n",
    "df.ScheduledDay.dt.date.value_counts().plot(kind=\"line\",figsize=(10,4));\n",
    "plt.xlabel(\"ScheduledDay\")\n",
    "plt.ylabel(\"Count\")\n",
    "plt.title(\"'ScheduledDay' Line chart\")"
   ]
  },
  {
   "cell_type": "code",
   "execution_count": 128,
   "metadata": {},
   "outputs": [
    {
     "data": {
      "image/png": "[encoded data removed]",
      "text/plain": [
       "<Figure size 432x288 with 1 Axes>"
      ]
     },
     "metadata": {
      "needs_background": "light"
     },
     "output_type": "display_data"
    }
   ],
   "source": [
    "# Scatter plot for the relationship between ScheduledDay and AppointmentDay\n",
    "df.plot(kind=\"scatter\", x=\"ScheduledDay\",y=\"AppointmentDay\");\n",
    "plt.title(\"relationship between ScheduledDay and AppointmentDay\");"
   ]
  },
  {
   "cell_type": "code",
   "execution_count": 129,
   "metadata": {},
   "outputs": [
    {
     "data": {
      "text/plain": [
       "Text(0.5, 1.0, \"'AppointmentDay' Line chart\")"
      ]
     },
     "execution_count": 129,
     "metadata": {},
     "output_type": "execute_result"
    },
    {
     "data": {
      "image/png": "[encoded data removed]",
      "text/plain": [
       "<Figure size 720x288 with 1 Axes>"
      ]
     },
     "metadata": {
      "needs_background": "light"
     },
     "output_type": "display_data"
    }
   ],
   "source": [
    "# line chart plot for 'ScheduledDay'\n",
    "df.AppointmentDay.dt.date.value_counts().plot(kind=\"line\",figsize=(10,4));\n",
    "plt.xlabel(\"AppointmentDay\")\n",
    "plt.ylabel(\"Count\")\n",
    "plt.title(\"'AppointmentDay' Line chart\")"
   ]
  },
  {
   "cell_type": "markdown",
   "metadata": {},
   "source": [
    "# Age Exploration"
   ]
  },
  {
   "cell_type": "code",
   "execution_count": 69,
   "metadata": {},
   "outputs": [
    {
     "data": {
      "text/plain": [
       "count    110526.000000\n",
       "mean         37.089219\n",
       "std          23.110026\n",
       "min           0.000000\n",
       "25%          18.000000\n",
       "50%          37.000000\n",
       "75%          55.000000\n",
       "max         115.000000\n",
       "Name: Age, dtype: float64"
      ]
     },
     "execution_count": 69,
     "metadata": {},
     "output_type": "execute_result"
    }
   ],
   "source": [
    "#Age description\n",
    "df.Age.describe()"
   ]
  },
  {
   "cell_type": "code",
   "execution_count": 70,
   "metadata": {},
   "outputs": [
    {
     "data": {
      "image/png": "[encoded data removed]",
      "text/plain": [
       "<Figure size 1944x432 with 1 Axes>"
      ]
     },
     "metadata": {
      "needs_background": "light"
     },
     "output_type": "display_data"
    }
   ],
   "source": [
    "# Histogram plot of Age\n",
    "df.Age.hist(bins=25,figsize=(27,6)) \n",
    "plt.xlabel(\"Age\") \n",
    "plt.ylabel(\"Count\") \n",
    "plt.title(\"Age Histogram\");"
   ]
  },
  {
   "cell_type": "code",
   "execution_count": 71,
   "metadata": {},
   "outputs": [
    {
     "data": {
      "image/png": "[encoded data removed]",
      "text/plain": [
       "<Figure size 1440x360 with 1 Axes>"
      ]
     },
     "metadata": {
      "needs_background": "light"
     },
     "output_type": "display_data"
    }
   ],
   "source": [
    "#neighbourhood description\n",
    "df.Neighbourhood.value_counts().plot(kind=\"bar\",figsize=(20,5));"
   ]
  },
  {
   "cell_type": "code",
   "execution_count": 72,
   "metadata": {},
   "outputs": [],
   "source": [
    "# function to find the value counts percentage and plot barplot figure\n",
    "def percent_and_barplot(col):\n",
    "    print(round(df[col].value_counts()/len(df)*100,2))\n",
    "    df[col].value_counts().plot(kind=\"bar\")\n",
    "    plt.ylabel(\"Count\")\n",
    "    plt.title(col);"
   ]
  },
  {
   "cell_type": "code",
   "execution_count": 73,
   "metadata": {},
   "outputs": [
    {
     "name": "stdout",
     "output_type": "stream",
     "text": [
      "0    90.17\n",
      "1     9.83\n",
      "Name: Scholarship, dtype: float64\n"
     ]
    },
    {
     "data": {
      "image/png": "[encoded data removed]",
      "text/plain": [
       "<Figure size 432x288 with 1 Axes>"
      ]
     },
     "metadata": {
      "needs_background": "light"
     },
     "output_type": "display_data"
    }
   ],
   "source": [
    "percent_and_barplot(\"Scholarship\")"
   ]
  },
  {
   "cell_type": "code",
   "execution_count": 74,
   "metadata": {},
   "outputs": [
    {
     "name": "stdout",
     "output_type": "stream",
     "text": [
      "0    80.28\n",
      "1    19.72\n",
      "Name: Hypertension, dtype: float64\n"
     ]
    },
    {
     "data": {
      "image/png": "[encoded data removed]",
      "text/plain": [
       "<Figure size 432x288 with 1 Axes>"
      ]
     },
     "metadata": {
      "needs_background": "light"
     },
     "output_type": "display_data"
    }
   ],
   "source": [
    "percent_and_barplot(\"Hypertension\")"
   ]
  },
  {
   "cell_type": "code",
   "execution_count": 75,
   "metadata": {},
   "outputs": [
    {
     "name": "stdout",
     "output_type": "stream",
     "text": [
      "0    96.96\n",
      "1     3.04\n",
      "Name: Alcoholism, dtype: float64\n"
     ]
    },
    {
     "data": {
      "image/png": "[encoded data removed]",
      "text/plain": [
       "<Figure size 432x288 with 1 Axes>"
      ]
     },
     "metadata": {
      "needs_background": "light"
     },
     "output_type": "display_data"
    }
   ],
   "source": [
    "percent_and_barplot(\"Alcoholism\");"
   ]
  },
  {
   "cell_type": "code",
   "execution_count": 76,
   "metadata": {},
   "outputs": [
    {
     "name": "stdout",
     "output_type": "stream",
     "text": [
      "0    92.81\n",
      "1     7.19\n",
      "Name: Diabetes, dtype: float64\n"
     ]
    },
    {
     "data": {
      "image/png": "[encoded data removed]",
      "text/plain": [
       "<Figure size 432x288 with 1 Axes>"
      ]
     },
     "metadata": {
      "needs_background": "light"
     },
     "output_type": "display_data"
    }
   ],
   "source": [
    "percent_and_barplot(\"Diabetes\");"
   ]
  },
  {
   "cell_type": "code",
   "execution_count": 77,
   "metadata": {},
   "outputs": [
    {
     "name": "stdout",
     "output_type": "stream",
     "text": [
      "0    97.97\n",
      "1     1.85\n",
      "2     0.17\n",
      "3     0.01\n",
      "4     0.00\n",
      "Name: Handicap, dtype: float64\n"
     ]
    },
    {
     "data": {
      "image/png": "[encoded data removed]",
      "text/plain": [
       "<Figure size 432x288 with 1 Axes>"
      ]
     },
     "metadata": {
      "needs_background": "light"
     },
     "output_type": "display_data"
    }
   ],
   "source": [
    "percent_and_barplot(\"Handicap\");"
   ]
  },
  {
   "cell_type": "code",
   "execution_count": 78,
   "metadata": {},
   "outputs": [
    {
     "name": "stdout",
     "output_type": "stream",
     "text": [
      "0    67.9\n",
      "1    32.1\n",
      "Name: SMS_received, dtype: float64\n"
     ]
    },
    {
     "data": {
      "image/png": "[encoded data removed]",
      "text/plain": [
       "<Figure size 432x288 with 1 Axes>"
      ]
     },
     "metadata": {
      "needs_background": "light"
     },
     "output_type": "display_data"
    }
   ],
   "source": [
    "percent_and_barplot(\"SMS_received\");"
   ]
  },
  {
   "cell_type": "code",
   "execution_count": 79,
   "metadata": {},
   "outputs": [
    {
     "name": "stdout",
     "output_type": "stream",
     "text": [
      "No     79.81\n",
      "Yes    20.19\n",
      "Name: No-show, dtype: float64\n"
     ]
    },
    {
     "data": {
      "image/png": "[encoded data removed]",
      "text/plain": [
       "<Figure size 432x288 with 1 Axes>"
      ]
     },
     "metadata": {
      "needs_background": "light"
     },
     "output_type": "display_data"
    }
   ],
   "source": [
    "percent_and_barplot(\"No-show\");"
   ]
  },
  {
   "cell_type": "markdown",
   "metadata": {},
   "source": [
    "Exploratory Data analysis Results:\n",
    "- The proportion of females is greater than that of males.\n",
    "- The period of time is starting from 2015-11-10 for scheduling dates and from 2016-04-29 for appointments untill -> 2016-06-08.\n",
    "- The Age range is contain nearly all ages (from 0 to 115) and the majority is in very young age and between 20 and 55.\n",
    "- There is 81 neighbourhood where the appointment takes place.\n",
    "- Most of the patients have No : Scholarship 90% , Hipertension 80%, Diabetes 93% , Alcoholism 97% , Handcap 98% (('according to the data')).\n",
    "- 68% of patients did not received SMS.\n",
    "\n",
    "- Nearly 20% of patient missed their appointment."
   ]
  },
  {
   "cell_type": "markdown",
   "metadata": {},
   "source": [
    "### Q1- Is there a correlation between missing the appointment and the age of the patient?"
   ]
  },
  {
   "cell_type": "code",
   "execution_count": 80,
   "metadata": {},
   "outputs": [
    {
     "name": "stdout",
     "output_type": "stream",
     "text": [
      "<class 'pandas.core.frame.DataFrame'>\n",
      "Int64Index: 110526 entries, 0 to 110526\n",
      "Data columns (total 14 columns):\n",
      " #   Column          Non-Null Count   Dtype              \n",
      "---  ------          --------------   -----              \n",
      " 0   PatientId       110526 non-null  float64            \n",
      " 1   AppointmentID   110526 non-null  int64              \n",
      " 2   Gender          110526 non-null  object             \n",
      " 3   ScheduledDay    110526 non-null  datetime64[ns, UTC]\n",
      " 4   AppointmentDay  110526 non-null  object             \n",
      " 5   Age             110526 non-null  int64              \n",
      " 6   Neighbourhood   110526 non-null  object             \n",
      " 7   Scholarship     110526 non-null  int64              \n",
      " 8   Hypertension    110526 non-null  int64              \n",
      " 9   Diabetes        110526 non-null  int64              \n",
      " 10  Alcoholism      110526 non-null  int64              \n",
      " 11  Handicap        110526 non-null  int64              \n",
      " 12  SMS_received    110526 non-null  int64              \n",
      " 13  No-show         110526 non-null  object             \n",
      "dtypes: datetime64[ns, UTC](1), float64(1), int64(8), object(4)\n",
      "memory usage: 12.6+ MB\n"
     ]
    }
   ],
   "source": [
    "# Continue to explore the data to address your additional research\n",
    "#   questions. Add more headers as needed if you have more questions to\n",
    "#   investigate.\n",
    "df.info()"
   ]
  },
  {
   "cell_type": "code",
   "execution_count": 81,
   "metadata": {},
   "outputs": [],
   "source": [
    "# making masks to use later\n",
    "miss = df[\"No-show\"] == \"Yes\"\n",
    "show = df[\"No-show\"] == \"No\""
   ]
  },
  {
   "cell_type": "code",
   "execution_count": 82,
   "metadata": {},
   "outputs": [
    {
     "data": {
      "image/png": "[encoded data removed]",
      "text/plain": [
       "<Figure size 432x288 with 1 Axes>"
      ]
     },
     "metadata": {
      "needs_background": "light"
     },
     "output_type": "display_data"
    }
   ],
   "source": [
    "# histogram for ages of patients\n",
    "df[show].Age.hist(alpha=0.5, bins=30,label=\"showed\")\n",
    "df[miss].Age.hist(alpha=0.5, bins=30,label=\"missed\")\n",
    "plt.legend();\n",
    "plt.title(\"Age Histogram\")\n",
    "plt.xlabel(\"Age\")\n",
    "plt.ylabel(\"Count\");"
   ]
  },
  {
   "cell_type": "code",
   "execution_count": 83,
   "metadata": {},
   "outputs": [
    {
     "data": {
      "text/plain": [
       "Age  No-show\n",
       "0    No         2900\n",
       "     Yes         639\n",
       "1    No         1858\n",
       "     Yes         415\n",
       "2    No         1366\n",
       "                ... \n",
       "99   No            1\n",
       "100  No            4\n",
       "102  No            2\n",
       "115  Yes           3\n",
       "     No            2\n",
       "Name: No-show, Length: 203, dtype: int64"
      ]
     },
     "execution_count": 83,
     "metadata": {},
     "output_type": "execute_result"
    }
   ],
   "source": [
    "# value counts for no-show grouped by Age\n",
    "Age_count = df.groupby(\"Age\")[\"No-show\"].value_counts()\n",
    "Age_count"
   ]
  },
  {
   "cell_type": "code",
   "execution_count": 84,
   "metadata": {},
   "outputs": [
    {
     "data": {
      "text/plain": [
       "Age\n",
       "0      3539\n",
       "1      2273\n",
       "2      1618\n",
       "3      1513\n",
       "4      1299\n",
       "       ... \n",
       "98        6\n",
       "99        1\n",
       "100       4\n",
       "102       2\n",
       "115       5\n",
       "Name: No-show, Length: 103, dtype: int64"
      ]
     },
     "execution_count": 84,
     "metadata": {},
     "output_type": "execute_result"
    }
   ],
   "source": [
    "# value counts for Age\n",
    "Age_count.groupby(level=0).sum()"
   ]
  },
  {
   "cell_type": "code",
   "execution_count": 85,
   "metadata": {},
   "outputs": [
    {
     "data": {
      "image/png": "[encoded data removed]",
      "text/plain": [
       "<Figure size 2520x720 with 1 Axes>"
      ]
     },
     "metadata": {
      "needs_background": "light"
     },
     "output_type": "display_data"
    }
   ],
   "source": [
    "# Stacked bar plot for the patients who missed thier appointment across all ages\n",
    "round(Age_count / Age_count.groupby(level=0).sum() * 100,2).unstack().plot(kind=\"bar\",stacked=True, figsize=(35,10));\n",
    "plt.legend([\"showed\",\"missed\"]);\n",
    "plt.title(\"Percentage of missing appointments across all ages\");"
   ]
  },
  {
   "cell_type": "code",
   "execution_count": 86,
   "metadata": {},
   "outputs": [
    {
     "name": "stdout",
     "output_type": "stream",
     "text": [
      "The mean value of patient missig the appointment for the age:\n"
     ]
    },
    {
     "data": {
      "text/plain": [
       "19.850300000000008"
      ]
     },
     "execution_count": 86,
     "metadata": {},
     "output_type": "execute_result"
    }
   ],
   "source": [
    "# The mean value of percentage of age for patient that missing thier appointment\n",
    "print(\"The mean value of patient missig the appointment for the age:\")\n",
    "round(Age_count / Age_count.groupby(level=0).sum() * 100,2).unstack().Yes.mean()"
   ]
  },
  {
   "cell_type": "code",
   "execution_count": 87,
   "metadata": {},
   "outputs": [],
   "source": [
    "#binning the ages\n",
    "bins=[0,10,20,30,40,50,60,70,80,90,100,120]\n",
    "df[\"Age_bin10\"] = pd.cut(df.Age, bins=bins)\n",
    "Age10_count = df.groupby(\"Age_bin10\")[\"No-show\"].value_counts()"
   ]
  },
  {
   "cell_type": "code",
   "execution_count": 88,
   "metadata": {},
   "outputs": [
    {
     "data": {
      "text/plain": [
       "Text(0.5, 1.0, 'Percentage of Missing appointment across ages')"
      ]
     },
     "execution_count": 88,
     "metadata": {},
     "output_type": "execute_result"
    },
    {
     "data": {
      "image/png": "[encoded data removed]",
      "text/plain": [
       "<Figure size 432x288 with 1 Axes>"
      ]
     },
     "metadata": {
      "needs_background": "light"
     },
     "output_type": "display_data"
    }
   ],
   "source": [
    "#plot percentage of missing appointments across ages\n",
    "(Age10_count/Age10_count.groupby(level=0).sum()*100).unstack().plot(kind=\"bar\",stacked=True)\n",
    "plt.legend([\"Showed\",\"Missed\"]);\n",
    "plt.title(\"Percentage of Missing appointment across ages\")"
   ]
  },
  {
   "cell_type": "code",
   "execution_count": 89,
   "metadata": {},
   "outputs": [
    {
     "data": {
      "text/plain": [
       "Age_bin10   No-show\n",
       "(0, 10]     No         79.296515\n",
       "            Yes        20.703485\n",
       "(10, 20]    No         74.746164\n",
       "            Yes        25.253836\n",
       "(20, 30]    No         75.375463\n",
       "            Yes        24.624537\n",
       "(30, 40]    No         78.527770\n",
       "            Yes        21.472230\n",
       "(40, 50]    No         80.097087\n",
       "            Yes        19.902913\n",
       "(50, 60]    No         82.625631\n",
       "            Yes        17.374369\n",
       "(60, 70]    No         85.271249\n",
       "            Yes        14.728751\n",
       "(70, 80]    No         84.460759\n",
       "            Yes        15.539241\n",
       "(80, 90]    No         84.001572\n",
       "            Yes        15.998428\n",
       "(90, 100]   No         80.398671\n",
       "            Yes        19.601329\n",
       "(100, 120]  No         57.142857\n",
       "            Yes        42.857143\n",
       "Name: No-show, dtype: float64"
      ]
     },
     "execution_count": 89,
     "metadata": {},
     "output_type": "execute_result"
    }
   ],
   "source": [
    "(Age10_count/Age10_count.groupby(level=0).sum()*100)"
   ]
  },
  {
   "cell_type": "code",
   "execution_count": 90,
   "metadata": {},
   "outputs": [
    {
     "data": {
      "image/png": "[encoded data removed]",
      "text/plain": [
       "<Figure size 432x288 with 1 Axes>"
      ]
     },
     "metadata": {
      "needs_background": "light"
     },
     "output_type": "display_data"
    }
   ],
   "source": [
    "# ratio to all patients\n",
    "(Age10_count/len(df)*100).unstack().plot(kind=\"bar\",stacked=True);\n",
    "plt.title(\"Prcentage of Missing appointment across ages to total number of patients\");"
   ]
  },
  {
   "cell_type": "code",
   "execution_count": 91,
   "metadata": {},
   "outputs": [
    {
     "data": {
      "text/plain": [
       "No-show\n",
       "No     78.358522\n",
       "Yes    21.641478\n",
       "dtype: float64"
      ]
     },
     "execution_count": 91,
     "metadata": {},
     "output_type": "execute_result"
    }
   ],
   "source": [
    "(Age10_count/Age10_count.groupby(level=0).sum()*100).unstack().mean()"
   ]
  },
  {
   "cell_type": "code",
   "execution_count": 92,
   "metadata": {},
   "outputs": [
    {
     "data": {
      "image/png": "[encoded data removed]",
      "text/plain": [
       "<Figure size 432x288 with 1 Axes>"
      ]
     },
     "metadata": {
      "needs_background": "light"
     },
     "output_type": "display_data"
    }
   ],
   "source": [
    "(Age10_count/Age10_count.groupby(level=0).sum()*100).unstack().Yes.hist(bins=30);"
   ]
  },
  {
   "cell_type": "markdown",
   "metadata": {},
   "source": [
    "Results:\n",
    "- There is no strong corolation between age alone and missing the appointment :\n",
    "\n",
    "- The mean of patient missing an appointment across all ages (19.85%) is close to the overall avarge (20.19%)\n",
    "\n",
    "After some exploration we could say:\n",
    "- patients from 12 to mid 30s are more likely to miss their appointments\n",
    "kids and patients in their 60s, 70s and 80s are more likely to show to their appointments : The reason for that could be because there is someone who is taking them to their appointments."
   ]
  },
  {
   "cell_type": "markdown",
   "metadata": {},
   "source": [
    "#  Q2- Is there a correlation between missing the appointment and not receiving an SMS message?"
   ]
  },
  {
   "cell_type": "code",
   "execution_count": 93,
   "metadata": {},
   "outputs": [
    {
     "data": {
      "image/png": "[encoded data removed]",
      "text/plain": [
       "<Figure size 432x288 with 1 Axes>"
      ]
     },
     "metadata": {},
     "output_type": "display_data"
    }
   ],
   "source": [
    "#show percentage of sms sent grouped by not received and received\n",
    "df[\"SMS_received\"].value_counts().plot(kind=\"pie\",labels=[\"Not Received\",\"Received\"],   autopct='%1.0f%%')\n",
    "plt.ylabel(\"Count\")\n",
    "plt.title(\"SMS_received\");"
   ]
  },
  {
   "cell_type": "code",
   "execution_count": 94,
   "metadata": {},
   "outputs": [
    {
     "data": {
      "text/plain": [
       "SMS_received  No-show\n",
       "0             No         62509\n",
       "              Yes        12535\n",
       "1             No         25698\n",
       "              Yes         9784\n",
       "Name: No-show, dtype: int64"
      ]
     },
     "execution_count": 94,
     "metadata": {},
     "output_type": "execute_result"
    }
   ],
   "source": [
    "#count of no-show grouped by sms_received\n",
    "SMS_count = df.groupby(\"SMS_received\")[\"No-show\"].value_counts()\n",
    "SMS_count"
   ]
  },
  {
   "cell_type": "code",
   "execution_count": 95,
   "metadata": {},
   "outputs": [
    {
     "data": {
      "text/html": [
       "<div>\n",
       "<style scoped>\n",
       "    .dataframe tbody tr th:only-of-type {\n",
       "        vertical-align: middle;\n",
       "    }\n",
       "\n",
       "    .dataframe tbody tr th {\n",
       "        vertical-align: top;\n",
       "    }\n",
       "\n",
       "    .dataframe thead th {\n",
       "        text-align: right;\n",
       "    }\n",
       "</style>\n",
       "<table border=\"1\" class=\"dataframe\">\n",
       "  <thead>\n",
       "    <tr style=\"text-align: right;\">\n",
       "      <th>No-show</th>\n",
       "      <th>No</th>\n",
       "      <th>Yes</th>\n",
       "    </tr>\n",
       "  </thead>\n",
       "  <tbody>\n",
       "    <tr>\n",
       "      <th>Not Received</th>\n",
       "      <td>83.296466</td>\n",
       "      <td>16.703534</td>\n",
       "    </tr>\n",
       "    <tr>\n",
       "      <th>Received</th>\n",
       "      <td>72.425455</td>\n",
       "      <td>27.574545</td>\n",
       "    </tr>\n",
       "  </tbody>\n",
       "</table>\n",
       "</div>"
      ],
      "text/plain": [
       "No-show              No        Yes\n",
       "Not Received  83.296466  16.703534\n",
       "Received      72.425455  27.574545"
      ]
     },
     "execution_count": 95,
     "metadata": {},
     "output_type": "execute_result"
    }
   ],
   "source": [
    "\n",
    "SMS_NR = (SMS_count / SMS_count.groupby(level=0).sum() * 100).unstack()\n",
    "SMS_NR.index = [\"Not Received\", \"Received\"]\n",
    "SMS_NR"
   ]
  },
  {
   "cell_type": "code",
   "execution_count": 96,
   "metadata": {},
   "outputs": [
    {
     "data": {
      "image/png": "[encoded data removed]",
      "text/plain": [
       "<Figure size 432x288 with 1 Axes>"
      ]
     },
     "metadata": {
      "needs_background": "light"
     },
     "output_type": "display_data"
    }
   ],
   "source": [
    "SMS_NR.plot(kind=\"bar\",stacked=True)\n",
    "plt.legend([\"showed\",\"missed\"])\n",
    "plt.title(\"Percentage of patients who missed or showed and Receiving SMS\");"
   ]
  },
  {
   "cell_type": "code",
   "execution_count": 97,
   "metadata": {},
   "outputs": [],
   "source": [
    "# Convert \"No-show\" column to binary values by creatind a new column \n",
    "df[\"missed\"] = np.where(df[\"No-show\"] == \"Yes\",1,0)"
   ]
  },
  {
   "cell_type": "code",
   "execution_count": 98,
   "metadata": {},
   "outputs": [
    {
     "data": {
      "text/html": [
       "<div>\n",
       "<style scoped>\n",
       "    .dataframe tbody tr th:only-of-type {\n",
       "        vertical-align: middle;\n",
       "    }\n",
       "\n",
       "    .dataframe tbody tr th {\n",
       "        vertical-align: top;\n",
       "    }\n",
       "\n",
       "    .dataframe thead th {\n",
       "        text-align: right;\n",
       "    }\n",
       "</style>\n",
       "<table border=\"1\" class=\"dataframe\">\n",
       "  <thead>\n",
       "    <tr style=\"text-align: right;\">\n",
       "      <th></th>\n",
       "      <th>PatientId</th>\n",
       "      <th>AppointmentID</th>\n",
       "      <th>Age</th>\n",
       "      <th>Scholarship</th>\n",
       "      <th>Hypertension</th>\n",
       "      <th>Diabetes</th>\n",
       "      <th>Alcoholism</th>\n",
       "      <th>Handicap</th>\n",
       "      <th>SMS_received</th>\n",
       "      <th>missed</th>\n",
       "    </tr>\n",
       "  </thead>\n",
       "  <tbody>\n",
       "    <tr>\n",
       "      <th>PatientId</th>\n",
       "      <td>1.000000</td>\n",
       "      <td>0.004023</td>\n",
       "      <td>-0.004121</td>\n",
       "      <td>-0.002877</td>\n",
       "      <td>-0.006436</td>\n",
       "      <td>0.001608</td>\n",
       "      <td>0.011014</td>\n",
       "      <td>-0.007915</td>\n",
       "      <td>-0.009742</td>\n",
       "      <td>-0.001456</td>\n",
       "    </tr>\n",
       "    <tr>\n",
       "      <th>AppointmentID</th>\n",
       "      <td>0.004023</td>\n",
       "      <td>1.000000</td>\n",
       "      <td>-0.019106</td>\n",
       "      <td>0.022619</td>\n",
       "      <td>0.012759</td>\n",
       "      <td>0.022632</td>\n",
       "      <td>0.032946</td>\n",
       "      <td>0.014107</td>\n",
       "      <td>-0.256613</td>\n",
       "      <td>-0.162597</td>\n",
       "    </tr>\n",
       "    <tr>\n",
       "      <th>Age</th>\n",
       "      <td>-0.004121</td>\n",
       "      <td>-0.019106</td>\n",
       "      <td>1.000000</td>\n",
       "      <td>-0.092463</td>\n",
       "      <td>0.504586</td>\n",
       "      <td>0.292391</td>\n",
       "      <td>0.095810</td>\n",
       "      <td>0.078032</td>\n",
       "      <td>0.012633</td>\n",
       "      <td>-0.060327</td>\n",
       "    </tr>\n",
       "    <tr>\n",
       "      <th>Scholarship</th>\n",
       "      <td>-0.002877</td>\n",
       "      <td>0.022619</td>\n",
       "      <td>-0.092463</td>\n",
       "      <td>1.000000</td>\n",
       "      <td>-0.019730</td>\n",
       "      <td>-0.024894</td>\n",
       "      <td>0.035022</td>\n",
       "      <td>-0.008587</td>\n",
       "      <td>0.001192</td>\n",
       "      <td>0.029134</td>\n",
       "    </tr>\n",
       "    <tr>\n",
       "      <th>Hypertension</th>\n",
       "      <td>-0.006436</td>\n",
       "      <td>0.012759</td>\n",
       "      <td>0.504586</td>\n",
       "      <td>-0.019730</td>\n",
       "      <td>1.000000</td>\n",
       "      <td>0.433085</td>\n",
       "      <td>0.087970</td>\n",
       "      <td>0.080083</td>\n",
       "      <td>-0.006270</td>\n",
       "      <td>-0.035704</td>\n",
       "    </tr>\n",
       "    <tr>\n",
       "      <th>Diabetes</th>\n",
       "      <td>0.001608</td>\n",
       "      <td>0.022632</td>\n",
       "      <td>0.292391</td>\n",
       "      <td>-0.024894</td>\n",
       "      <td>0.433085</td>\n",
       "      <td>1.000000</td>\n",
       "      <td>0.018473</td>\n",
       "      <td>0.057530</td>\n",
       "      <td>-0.014552</td>\n",
       "      <td>-0.015181</td>\n",
       "    </tr>\n",
       "    <tr>\n",
       "      <th>Alcoholism</th>\n",
       "      <td>0.011014</td>\n",
       "      <td>0.032946</td>\n",
       "      <td>0.095810</td>\n",
       "      <td>0.035022</td>\n",
       "      <td>0.087970</td>\n",
       "      <td>0.018473</td>\n",
       "      <td>1.000000</td>\n",
       "      <td>0.004647</td>\n",
       "      <td>-0.026149</td>\n",
       "      <td>-0.000197</td>\n",
       "    </tr>\n",
       "    <tr>\n",
       "      <th>Handicap</th>\n",
       "      <td>-0.007915</td>\n",
       "      <td>0.014107</td>\n",
       "      <td>0.078032</td>\n",
       "      <td>-0.008587</td>\n",
       "      <td>0.080083</td>\n",
       "      <td>0.057530</td>\n",
       "      <td>0.004647</td>\n",
       "      <td>1.000000</td>\n",
       "      <td>-0.024162</td>\n",
       "      <td>-0.006077</td>\n",
       "    </tr>\n",
       "    <tr>\n",
       "      <th>SMS_received</th>\n",
       "      <td>-0.009742</td>\n",
       "      <td>-0.256613</td>\n",
       "      <td>0.012633</td>\n",
       "      <td>0.001192</td>\n",
       "      <td>-0.006270</td>\n",
       "      <td>-0.014552</td>\n",
       "      <td>-0.026149</td>\n",
       "      <td>-0.024162</td>\n",
       "      <td>1.000000</td>\n",
       "      <td>0.126428</td>\n",
       "    </tr>\n",
       "    <tr>\n",
       "      <th>missed</th>\n",
       "      <td>-0.001456</td>\n",
       "      <td>-0.162597</td>\n",
       "      <td>-0.060327</td>\n",
       "      <td>0.029134</td>\n",
       "      <td>-0.035704</td>\n",
       "      <td>-0.015181</td>\n",
       "      <td>-0.000197</td>\n",
       "      <td>-0.006077</td>\n",
       "      <td>0.126428</td>\n",
       "      <td>1.000000</td>\n",
       "    </tr>\n",
       "  </tbody>\n",
       "</table>\n",
       "</div>"
      ],
      "text/plain": [
       "               PatientId  AppointmentID       Age  Scholarship  Hypertension  \\\n",
       "PatientId       1.000000       0.004023 -0.004121    -0.002877     -0.006436   \n",
       "AppointmentID   0.004023       1.000000 -0.019106     0.022619      0.012759   \n",
       "Age            -0.004121      -0.019106  1.000000    -0.092463      0.504586   \n",
       "Scholarship    -0.002877       0.022619 -0.092463     1.000000     -0.019730   \n",
       "Hypertension   -0.006436       0.012759  0.504586    -0.019730      1.000000   \n",
       "Diabetes        0.001608       0.022632  0.292391    -0.024894      0.433085   \n",
       "Alcoholism      0.011014       0.032946  0.095810     0.035022      0.087970   \n",
       "Handicap       -0.007915       0.014107  0.078032    -0.008587      0.080083   \n",
       "SMS_received   -0.009742      -0.256613  0.012633     0.001192     -0.006270   \n",
       "missed         -0.001456      -0.162597 -0.060327     0.029134     -0.035704   \n",
       "\n",
       "               Diabetes  Alcoholism  Handicap  SMS_received    missed  \n",
       "PatientId      0.001608    0.011014 -0.007915     -0.009742 -0.001456  \n",
       "AppointmentID  0.022632    0.032946  0.014107     -0.256613 -0.162597  \n",
       "Age            0.292391    0.095810  0.078032      0.012633 -0.060327  \n",
       "Scholarship   -0.024894    0.035022 -0.008587      0.001192  0.029134  \n",
       "Hypertension   0.433085    0.087970  0.080083     -0.006270 -0.035704  \n",
       "Diabetes       1.000000    0.018473  0.057530     -0.014552 -0.015181  \n",
       "Alcoholism     0.018473    1.000000  0.004647     -0.026149 -0.000197  \n",
       "Handicap       0.057530    0.004647  1.000000     -0.024162 -0.006077  \n",
       "SMS_received  -0.014552   -0.026149 -0.024162      1.000000  0.126428  \n",
       "missed        -0.015181   -0.000197 -0.006077      0.126428  1.000000  "
      ]
     },
     "execution_count": 98,
     "metadata": {},
     "output_type": "execute_result"
    }
   ],
   "source": [
    "df.corr()"
   ]
  },
  {
   "cell_type": "markdown",
   "metadata": {},
   "source": [
    "\n",
    "### Conclusions\n",
    "We investigated the correlation between some of the characteristics of the patients and whether they missed or showed to their appointment. And these are the results of these analyses:\n",
    "- Patients from 12 to mid-30s are more likely to miss their appointments\n",
    "- Receiving an SMS did not increase the probabilty that a patient would keep their appointment."
   ]
  },
  {
   "cell_type": "markdown",
   "metadata": {},
   "source": [
    "### Limitations\n",
    "- The period when the data collected was just nearly two months, and this short period doesn't make the data reliable to make a strong correlation\n",
    "- There was no explanation of how the data was collected, and if it was collected in a way that makes these analyses more reliable.\n",
    "- The Handcap and SMS_received columns weren't explained clearly on the dataset page.\n",
    "- The dataset didn't explain why the patient comes to the doctor, which may give an additional explanation about why they miss their appointments."
   ]
  },
  {
   "cell_type": "code",
   "execution_count": 135,
   "metadata": {},
   "outputs": [
    {
     "data": {
      "text/plain": [
       "4294967295"
      ]
     },
     "execution_count": 135,
     "metadata": {},
     "output_type": "execute_result"
    }
   ],
   "source": [
    "from subprocess import call\n",
    "call(['python', '-m', 'nbconvert', 'Investigate_a_Dataset.ipynb'])"
   ]
  },
  {
   "cell_type": "code",
   "execution_count": null,
   "metadata": {},
   "outputs": [],
   "source": [
    "\n"
   ]
  }
 ],
 "metadata": {
  "kernelspec": {
   "display_name": "Python 3 (ipykernel)",
   "language": "python",
   "name": "python3"
  },
  "language_info": {
   "codemirror_mode": {
    "name": "ipython",
    "version": 3
   },
   "file_extension": ".py",
   "mimetype": "text/x-python",
   "name": "python",
   "nbconvert_exporter": "python",
   "pygments_lexer": "ipython3",
   "version": "3.9.12"
  }
 },
 "nbformat": 4,
 "nbformat_minor": 2
}
